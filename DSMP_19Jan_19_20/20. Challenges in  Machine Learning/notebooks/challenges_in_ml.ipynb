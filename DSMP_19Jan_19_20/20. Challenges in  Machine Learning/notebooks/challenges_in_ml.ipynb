{
 "cells": [
  {
   "cell_type": "code",
   "execution_count": 79,
   "metadata": {},
   "outputs": [],
   "source": [
    "import pandas as pd\n",
    "import numpy as np\n",
    "import matplotlib.pyplot as plt\n",
    "import seaborn as sns\n",
    "sns.set()\n",
    "\n",
    "# To print multiple outputs together\n",
    "from IPython.core.interactiveshell import InteractiveShell\n",
    "InteractiveShell.ast_node_interactivity = \"all\"\n",
    "\n",
    "# Change column display number during print\n",
    "pd.set_option('display.max_columns', 500)\n",
    "pd.set_option('display.max_rows', 500)\n",
    "pd.set_option('display.max_colwidth', -1)\n",
    "\n",
    "# Ignore warnings\n",
    "import warnings\n",
    "warnings.filterwarnings('ignore')\n",
    "\n",
    "# To display float with 2 decimal, avoid scientific printing\n",
    "pd.options.display.float_format = '{:.4f}'.format"
   ]
  },
  {
   "cell_type": "markdown",
   "metadata": {
    "slideshow": {
     "slide_type": "slide"
    }
   },
   "source": [
    "# Challenges in Machine Learning"
   ]
  },
  {
   "cell_type": "markdown",
   "metadata": {
    "slideshow": {
     "slide_type": "slide"
    }
   },
   "source": [
    "## Agenda:\n",
    "***\n",
    "* What is Imbalanced Data\n",
    "* Dealing with imbalanced data\n",
    "    * Evaluation Metrics\n",
    "    * Resampling Techniques\n",
    "    * Algorithmic Techniques\n",
    "* Dealing with small datasets\n",
    "* Values of K in K-Fold validation\n",
    "* Do we need hundreds of classifiers?"
   ]
  },
  {
   "cell_type": "markdown",
   "metadata": {},
   "source": [
    "# Challenges in Machine Learning"
   ]
  },
  {
   "cell_type": "markdown",
   "metadata": {
    "slideshow": {
     "slide_type": "slide"
    }
   },
   "source": [
    "## John and Lucius again\n",
    "***\n",
    "John and Lucius were finally out, in a nice looking pub, having drinks that were promised but never delivered to them. Having studied about all the cool algorithms, John was now pondering upon his journey. No amount of machine learning would have been able to predict his journey from house hunting to learning about ML algorithms. At least that's what he believed!"
   ]
  },
  {
   "cell_type": "markdown",
   "metadata": {
    "slideshow": {
     "slide_type": "subslide"
    }
   },
   "source": [
    "## John and Lucius again\n",
    "***\n",
    "John, now seriously considering a career in ML and data science started thinking about all the practical challenges ML professionals would come across. One of the first ones that came to his mind was: \"What if the classes in a classification problem were really skewed towards one of the classes?\" He told about this to Lucius. Lucius wanted to enjoy his drinks for once, but looking at John's enthusiasm, he realized that he had no choice. \"Imbalanced Datasets\", he muttered reluctantly and started explaining:"
   ]
  },
  {
   "cell_type": "markdown",
   "metadata": {
    "slideshow": {
     "slide_type": "slide"
    }
   },
   "source": [
    "<img src=\"../images/Concept-Alert.png\" alt=\"Concept-Alert\" style=\"width: 100px;float:left; margin-right:15px\"/>\n",
    "\n",
    "<br />\n",
    "\n",
    "## Imbalanced Data\n",
    "***\n",
    "\n",
    "* Imbalanced Data is a slightly inaccurate term we use to describe datasets where the distribution of the target variable is imbalanced.\n",
    "* This is most visible and easily detected for binary classification tasks, where most of the instances (data points) belong to one of the classes.\n"
   ]
  },
  {
   "cell_type": "code",
   "execution_count": null,
   "metadata": {},
   "outputs": [],
   "source": [
    "eg of imbalance dataset --> classification task\n",
    "Yes = 99 (not spam)\n",
    "No = 1 (spam)\n",
    "\n",
    "Fraud\n",
    "Raining in summer"
   ]
  },
  {
   "cell_type": "markdown",
   "metadata": {
    "slideshow": {
     "slide_type": "subslide"
    }
   },
   "source": [
    "<img src=\"../images/Concept-Alert.png\" alt=\"Concept-Alert\" style=\"width: 100px;float:left; margin-right:15px\"/>\n",
    "\n",
    "<br />\n",
    "\n",
    "## Imbalanced Data\n",
    "***\n",
    "* Class-imbalance regularly occurs in datasets pertaining to multi-class classification tasks as well.\n",
    "* Detecting it in Regression tasks can take a little more effort, and plotting a histogram of the target variable is a good starting point."
   ]
  },
  {
   "cell_type": "markdown",
   "metadata": {
    "slideshow": {
     "slide_type": "subslide"
    }
   },
   "source": [
    "## Examples\n",
    "***\n",
    "Imbalanced datasets frequently occur in\n",
    "\n",
    "* Anomaly detection\n",
    "    * Electricity pilferage\n",
    "    * Fraudulent transactions in banks\n",
    "* Predicting Rare events\n",
    "    * Ad click-through-rate (CTR) prediction (~1%)\n",
    "    * Identification of rare diseases\n",
    "    * User Churn (for example, usera churn is ~2% in telecom industry)\n"
   ]
  },
  {
   "cell_type": "code",
   "execution_count": null,
   "metadata": {},
   "outputs": [],
   "source": [
    "123 - Not Fraud\n",
    "123 - Fraud"
   ]
  },
  {
   "cell_type": "markdown",
   "metadata": {
    "slideshow": {
     "slide_type": "subslide"
    }
   },
   "source": [
    "<img src=\"../images/Concept-Alert.png\" alt=\"Concept-Alert\" style=\"width: 100px;float:left; margin-right:15px\"/>\n",
    "\n",
    "<br />\n",
    "\n",
    "## Understanding Imbalanced Data\n",
    "***\n",
    "Let's look at detection of credit card fraud to understand this in more detail, said Lucius recalling his encounter with such a problem.\n",
    "\n",
    "* Credit card fraud is a widespread problem and accounts for millions of dollars in loss.\n",
    "* But, given the extremely high number of credit card transactions everyday, fraudulent transactions represent only a small fraction.\n"
   ]
  },
  {
   "cell_type": "markdown",
   "metadata": {
    "slideshow": {
     "slide_type": "subslide"
    }
   },
   "source": [
    "* Even then, fraudulent transactions have an outsized impact on the revenue, because\n",
    "* Almost the entire value of a fraudulent transaction counts towards loss (less insurance), whereas\n",
    "* The profit from a genuine transaction is a fraction of the total transaction value.\n"
   ]
  },
  {
   "cell_type": "markdown",
   "metadata": {
    "slideshow": {
     "slide_type": "subslide"
    }
   },
   "source": [
    "* Thus it's more important to recall fraudulent transactions, even if that means we'll end up labeling some genuine transactions as fraud \n",
    "* This is more of a business call, actually, depending on a wide range of factors"
   ]
  },
  {
   "cell_type": "code",
   "execution_count": null,
   "metadata": {},
   "outputs": [],
   "source": [
    "Type 1 and Type 2\n",
    "H0 = Not fraud\n",
    "Ha = Fraud\n",
    "\n",
    "Type1 - Fraud when it was not a fraud - false alarm ! you may ending calling customer to confirm\n",
    "Type2 - Not fraud when it was actually fraud \n",
    "\n",
    "alpha = 0.01 (you need a very strong evidence for you to conclude fraud)\n",
    "alpha = 0.05\n",
    "alpha = 0.1 (you may not need a very strong evidence)\n",
    "\n"
   ]
  },
  {
   "cell_type": "markdown",
   "metadata": {
    "slideshow": {
     "slide_type": "subslide"
    }
   },
   "source": [
    "* Even though the typical datasets recording credit card transaction are very large (millions of row), the number of fraudulent records tends to be a very small fraction of the datasets - around 1% to 2%.\n",
    "* Thus, if a given dataset of credit card transactions has a million row, only about 10,000 of them will be from fraudulent transactions."
   ]
  },
  {
   "cell_type": "code",
   "execution_count": null,
   "metadata": {},
   "outputs": [],
   "source": [
    "No - 1000000\n",
    "Yes - 10000\n",
    "\n",
    "any pattern which was present from 10k gets overshadowed by the majority class\n",
    "model ends up learning patterns only from dominant class"
   ]
  },
  {
   "cell_type": "code",
   "execution_count": null,
   "metadata": {},
   "outputs": [],
   "source": [
    "95 - blue\n",
    "5 - light blue"
   ]
  },
  {
   "cell_type": "markdown",
   "metadata": {
    "slideshow": {
     "slide_type": "subslide"
    }
   },
   "source": [
    "So what? blurted John, I can still train a model and try and predict if a transaction in fraudulent or not. Yes, you can, but that is likely to give you not-so-good results, said Lucius. Let me explain."
   ]
  },
  {
   "cell_type": "markdown",
   "metadata": {
    "slideshow": {
     "slide_type": "subslide"
    }
   },
   "source": [
    "<img src=\"../images/Concept-Alert.png\" alt=\"Concept-Alert\" style=\"width: 100px;float:left; margin-right:15px\"/>\n",
    "\n",
    "<br />\n",
    "\n",
    "## Consequences of imbalanced classes:\n",
    "***\n",
    "**Bias in the model towards dominant class**\n",
    "\n",
    "* Most machine learning models will end up predicting most of the transactions as genuine as they end up learning from mostly positive instances.\n",
    "* Accounting for this in the way the model sees the data (resampling strategies) or the way it learns (error metric, algorithmic tweaks) can help us build models that are better at predicting the minor class.\n",
    "\n"
   ]
  },
  {
   "cell_type": "markdown",
   "metadata": {
    "slideshow": {
     "slide_type": "subslide"
    }
   },
   "source": [
    "<img src=\"../images/Concept-Alert.png\" alt=\"Concept-Alert\" style=\"width: 100px;float:left; margin-right:15px\"/>\n",
    "\n",
    "<br />\n",
    "\n",
    "## Consequences of imbalanced classes:\n",
    "***\n",
    "**Difficulty in assessing model performance**\n",
    "\n",
    "* For the credit card dataset discussed before, if we classify all transactions as genuine, we might still have an accuracy of 99%! (Bias towards dominant class)\n",
    "* Let's look at a problem we are more likely to encounter in practice. \n",
    "* Suppose we have built two models, A and B, to predict fraudulent transactions, and we want to select the one with better performance.\n",
    "\n"
   ]
  },
  {
   "cell_type": "markdown",
   "metadata": {
    "slideshow": {
     "slide_type": "subslide"
    }
   },
   "source": [
    "<img src=\"../images/Concept-Alert.png\" alt=\"Concept-Alert\" style=\"width: 100px;float:left; margin-right:15px\"/>\n",
    "\n",
    "<br />\n",
    "\n",
    "## Consequences of imbalanced classes:\n",
    "***\n",
    "**Model A**\n",
    "\n",
    "* Of the 99% genuine transactions, this model predicts 98.5% correctly\n",
    "* Of the 1% fraudulent transactions, this model predicts 0.25% correctly\n",
    "\n",
    "**Model accuracy: 98.75%**"
   ]
  },
  {
   "cell_type": "markdown",
   "metadata": {
    "slideshow": {
     "slide_type": "subslide"
    }
   },
   "source": [
    "<img src=\"../images/Concept-Alert.png\" alt=\"Concept-Alert\" style=\"width: 100px;float:left; margin-right:15px\"/>\n",
    "\n",
    "<br />\n",
    "\n",
    "## Consequences of imbalanced classes:\n",
    "***\n",
    "**Model B**\n",
    "* Of the 99% genuine transactions, this model predicts 98.25% correctly\n",
    "* Of the 1% fraudulent transactions, this model predicts 0.5% correctly\n",
    "\n",
    "**Model accuracy: 98.75%**"
   ]
  },
  {
   "cell_type": "markdown",
   "metadata": {
    "slideshow": {
     "slide_type": "subslide"
    }
   },
   "source": [
    "<img src=\"../images/Concept-Alert.png\" alt=\"Concept-Alert\" style=\"width: 100px;float:left; margin-right:15px\"/>\n",
    "\n",
    "<br />\n",
    "\n",
    "## Consequences of imbalanced classes:\n",
    "***\n",
    "* **Which of these two models performs better?**\n",
    "* **Which one of these two should we use?**\n",
    "\n",
    "\n",
    "* Clearly Model B is more valuable to us, but Accuracy, one of the most common metrics used in classification, fails to reflect that.\n",
    "* We need to use a metric that not only captures the class imbalance better, but one that also lets us make meaningful trade-offs between precision and recall."
   ]
  },
  {
   "cell_type": "markdown",
   "metadata": {
    "slideshow": {
     "slide_type": "subslide"
    }
   },
   "source": [
    "\"Hmmm... Interesting...\" said John, scratching head, \"So how do we deal with such a dataset?\"\n",
    "\n",
    "Lucius tried to recall a few techniques he studied in college. After some time he started:"
   ]
  },
  {
   "cell_type": "markdown",
   "metadata": {
    "slideshow": {
     "slide_type": "subslide"
    }
   },
   "source": [
    "<img src=\"../images/Concept-Alert.png\" alt=\"Concept-Alert\" style=\"width: 100px;float:left; margin-right:15px\"/>\n",
    "\n",
    "<br />\n",
    "\n",
    "## Dealing with Imbalanced Data\n",
    "***\n",
    "Here are the ways to handle the imbalanced data\n",
    "\n",
    "* More suited error metrics (comparatively immune to class imbalance)\n",
    "* Resampling strategies\n",
    "* Algorithmic techniques\n",
    "* Buy/Collect more data - wait for more fraud txns/wait for more ppl to fall sick\n",
    "\n",
    "Let's look at them one by one."
   ]
  },
  {
   "cell_type": "markdown",
   "metadata": {
    "slideshow": {
     "slide_type": "slide"
    }
   },
   "source": [
    "## More Appropriate Error Metrics\n",
    "***\n",
    "The idea is to choose an error metric that is immune to class imbalance. As we saw earlier, accuracy is something that is not very robust against class imbalance. Following are a few examples of such error metrics\n",
    "\n",
    "1. Confusion Matrix\n",
    "2. Precision / Recall / Sensitivity / Specificity\n",
    "3. AUC ROC - PR AUC\n",
    "4. f1 Score\n",
    "5. Cohen's Kappa\n",
    "\n"
   ]
  },
  {
   "cell_type": "markdown",
   "metadata": {
    "slideshow": {
     "slide_type": "subslide"
    }
   },
   "source": [
    "We have already gone through all the metrics, except Cohen's kappa. So let's understand Cohen's kappa better."
   ]
  },
  {
   "cell_type": "code",
   "execution_count": null,
   "metadata": {},
   "outputs": [],
   "source": [
    "Cohen’s Kappa \n",
    "How good your classifier power is in comparison to random classifier\n",
    "\n",
    "100 records\n",
    "2 ways to classifiy \n",
    "1. learn the pattern and then classify\n",
    "2. randomly classify"
   ]
  },
  {
   "cell_type": "markdown",
   "metadata": {
    "slideshow": {
     "slide_type": "slide"
    }
   },
   "source": [
    "<img src=\"../images/Concept-Alert.png\" alt=\"Concept-Alert\" style=\"width: 100px;float:left; margin-right:15px\"/>\n",
    "\n",
    "<br />\n",
    "\n",
    "## Cohen’s Kappa:\n",
    "***\n",
    "* The Kappa statistic (or value) is a metric that compares an Observed Accuracy (your classifier) with an Expected Accuracy (random chance). \n",
    "* Let's understand how Cohen's kappa is defined using a confusion matrix\n",
    "![](../images/image20.png)"
   ]
  },
  {
   "cell_type": "markdown",
   "metadata": {
    "slideshow": {
     "slide_type": "subslide"
    }
   },
   "source": [
    "* Here, let's say rows (A) are the predicted values and columns (B) are the actual values.\n",
    "* Now let's understand observed accuracy and expected accuracy."
   ]
  },
  {
   "cell_type": "markdown",
   "metadata": {
    "slideshow": {
     "slide_type": "subslide"
    }
   },
   "source": [
    "* Observed Accuracy is simply the number of instances that were classified correctly throughout the entire confusion matrix.\n",
    "\n",
    "![](../images/image20.png)\n",
    "![](../images/image19.png)"
   ]
  },
  {
   "cell_type": "markdown",
   "metadata": {
    "slideshow": {
     "slide_type": "subslide"
    }
   },
   "source": [
    "* Expected Accuracy is defined as the accuracy that any classifier would be expected to achieve by random chance.\n",
    "\n",
    "Sounds confusing? Let's break this down.\n",
    "\n",
    "Our classifier classifies \n",
    "* (a + b) observations as yes\n",
    "* (c + d) observations as no\n",
    "\n",
    "\n",
    "* Hence, the probability of a randomly chosen observation being classified as yes is (P1): (a + b) / (a + b + c + d)\n",
    "* And, the probability of a randomly chosen observation being classified as no is (P2): (c + d) / (a + b + c + d)"
   ]
  },
  {
   "cell_type": "markdown",
   "metadata": {
    "slideshow": {
     "slide_type": "subslide"
    }
   },
   "source": [
    "Reality:\n",
    "* (a + c) observations as yes\n",
    "* (b + d) observations as no\n",
    "\n",
    "\n",
    "* Hence, the probability of a randomly chosen observation being classified as yes is (P3): (a + c) / (a + b + c + d)\n",
    "* And, the probability of a randomly chosen observation being classified as no is (P4): (b + d) / (a + b + c + d)"
   ]
  },
  {
   "cell_type": "code",
   "execution_count": null,
   "metadata": {},
   "outputs": [],
   "source": [
    "P1 (Your classifier) = Prob of saying Yes\n",
    "P2 (Your classifier) = Prob of saying No\n",
    "\n",
    "P3 (Truth) = Prob of saying Yes\n",
    "P4 (Truth) = Prob of saying No"
   ]
  },
  {
   "cell_type": "markdown",
   "metadata": {
    "slideshow": {
     "slide_type": "subslide"
    }
   },
   "source": [
    "Probability of a randomly chosen sample being *CORRECTLY* classified is \n",
    "\n",
    "* when the classifier classifies it as yes AND it is in reality yes: P1*P3\n",
    "* when the classifier classifies it as no AND it is in reality no: P2*P4\n",
    "\n",
    "Hence, Expected probability of a randomly chosen sample being *CORRECTLY* classified is: P1 x P3 + P2 x P4"
   ]
  },
  {
   "cell_type": "markdown",
   "metadata": {
    "slideshow": {
     "slide_type": "subslide"
    }
   },
   "source": [
    "![](../images/image20.png)\n",
    "![](../images/image23.png)"
   ]
  },
  {
   "cell_type": "markdown",
   "metadata": {
    "slideshow": {
     "slide_type": "subslide"
    }
   },
   "source": [
    "![](../images/image20.png)\n",
    "![](../images/image23.png)\n",
    "![](../images/image22.png)\n",
    "![](../images/image21.png)"
   ]
  },
  {
   "cell_type": "markdown",
   "metadata": {
    "slideshow": {
     "slide_type": "subslide"
    }
   },
   "source": [
    "Great! now that we understand $P_o$ and $P_e$, Cohen's kappa is defined as\n",
    "\n",
    "![](../images/image24.png)"
   ]
  },
  {
   "cell_type": "code",
   "execution_count": null,
   "metadata": {},
   "outputs": [],
   "source": [
    "ideal = 1\n",
    "as high as possible\n",
    "how much of impact your business can take\n",
    "10 fraud - 8\n"
   ]
  },
  {
   "cell_type": "markdown",
   "metadata": {
    "slideshow": {
     "slide_type": "subslide"
    }
   },
   "source": [
    "* In essence, the kappa statistic is a measure of how closely the instances classified by the machine learning classifier matched the data labeled as ground truth, controlling for the accuracy of a random classifier as measured by the expected accuracy. \n",
    "* Not only can this kappa statistic shed light into how the classifier itself performed, the kappa statistic for one model is directly comparable to the kappa statistic for any other model used for the same classification task.\n",
    "* For any arbitrary accuracy value, more the Kappa value, better the performance."
   ]
  },
  {
   "cell_type": "markdown",
   "metadata": {
    "slideshow": {
     "slide_type": "subslide"
    }
   },
   "source": [
    "Q: Here is an example of 2 classifiers with given confusion matrix. Which one do you think is performing better? "
   ]
  },
  {
   "cell_type": "markdown",
   "metadata": {
    "slideshow": {
     "slide_type": "subslide"
    }
   },
   "source": [
    "**Classifier A**\n",
    "\n",
    "![](../images/image25.png)"
   ]
  },
  {
   "cell_type": "markdown",
   "metadata": {
    "slideshow": {
     "slide_type": "subslide"
    }
   },
   "source": [
    "**CLassifier B**\n",
    "\n",
    "![](../images/image27.png)"
   ]
  },
  {
   "cell_type": "markdown",
   "metadata": {
    "slideshow": {
     "slide_type": "subslide"
    }
   },
   "source": [
    "A: It is apparent that for given accuracy, classifier A is doing a much better job at classifying than classifier B, which is also reflected in higher Kappa value attained by classifier A"
   ]
  },
  {
   "cell_type": "markdown",
   "metadata": {
    "slideshow": {
     "slide_type": "subslide"
    }
   },
   "source": [
    "\"Wow! that is an interesting metric to use!\" said John. What else we can do? Lucius again went searching the attics of his mind, looking for some other techniques he had studies. And started recalling the resampling techniques."
   ]
  },
  {
   "cell_type": "markdown",
   "metadata": {
    "slideshow": {
     "slide_type": "slide"
    }
   },
   "source": [
    "<img src=\"../images/Concept-Alert.png\" alt=\"Concept-Alert\" style=\"width: 100px;float:left; margin-right:15px\"/>\n",
    "\n",
    "<br />\n",
    "\n",
    "## Resampling Techniques\n",
    "***\n",
    "\n",
    "Resampling methods are techniques in which , we try to **reduce the proportion of the dominant class by undersampling** from it, or we try to **increase the proportion of the minor class by oversampling** from it.\n",
    "However, some of the more successful approaches combine both oversampling and undersampling.\n",
    "\n",
    "Let's have a look at them."
   ]
  },
  {
   "cell_type": "markdown",
   "metadata": {
    "slideshow": {
     "slide_type": "slide"
    }
   },
   "source": [
    "<img src=\"../images/Concept-Alert.png\" alt=\"Concept-Alert\" style=\"width: 100px;float:left; margin-right:15px\"/>\n",
    "\n",
    "<br />\n",
    "\n",
    "## Undersampling:\n",
    "***\n",
    "Undersampling techniques try to balance out the classes by reducing the number of observations in the dominant classes. \n",
    "\n",
    "![](../images/image26.png)"
   ]
  },
  {
   "cell_type": "code",
   "execution_count": null,
   "metadata": {},
   "outputs": [],
   "source": [
    "simple random sample\n",
    "Cons of using undersampling\n",
    "1. throwing away data/ loss of data\n",
    "2. underfitting\n",
    "3. there can be multiple patterns in majority itself, which you might miss\n",
    "\n",
    "Undersampling\n",
    "1. Where lots of millions and millions of records\n",
    "2. "
   ]
  },
  {
   "cell_type": "markdown",
   "metadata": {
    "slideshow": {
     "slide_type": "subslide"
    }
   },
   "source": [
    "## Undersampling\n",
    "***\n",
    "There are many undersampling techniques. Let's look at some of them.\n",
    "\n",
    "* Random Undersampling\n",
    "* Cluster Centroids\n",
    "* Tomek Links"
   ]
  },
  {
   "cell_type": "markdown",
   "metadata": {
    "slideshow": {
     "slide_type": "subslide"
    }
   },
   "source": [
    "<img src=\"../images/Technical-Stuff.png\" alt=\"Technical-Stuff\" style=\"width: 100px;float:left; margin-right:15px\"/>\n",
    "\n",
    "<br />\n",
    "\n",
    "## Undersampling - Random Undersampling\n",
    "***\n",
    "Random undersampling is one of the most intuitive and naive methods for undersampling. This method works by randomly choosing the samples from dominant classes. Let's understand the random undersampling by a few examples."
   ]
  },
  {
   "cell_type": "markdown",
   "metadata": {
    "slideshow": {
     "slide_type": "subslide"
    }
   },
   "source": [
    "**Example 1**\n",
    "* Total number of observations: 1000\n",
    "* Total number of classes: 2 (A, B)\n",
    "* Size of class A: 975\n",
    "* Size of class B: 25\n",
    "* Proportion of Minor class: 2.5%"
   ]
  },
  {
   "cell_type": "markdown",
   "metadata": {
    "slideshow": {
     "slide_type": "subslide"
    }
   },
   "source": [
    "**Sampled Dataset**\n",
    "* From A, select 25 points randomly\n",
    "* From B, select all 25 points\n",
    "* Proportion of Minor class: 5%"
   ]
  },
  {
   "cell_type": "markdown",
   "metadata": {
    "slideshow": {
     "slide_type": "subslide"
    }
   },
   "source": [
    "**Example 2**\n",
    "* Total number of observations: 1000\n",
    "* Total number of classes: 3 (A, B, C)\n",
    "* Size of class A: 925\n",
    "* Size of class B: 25\n",
    "* Size of class C: 50\n",
    "* Proportion of Minor classes: 2.5% (B) and 5% (C)"
   ]
  },
  {
   "cell_type": "markdown",
   "metadata": {
    "slideshow": {
     "slide_type": "subslide"
    }
   },
   "source": [
    "**Sampled Dataset**\n",
    "* From A, select 425 points randomly\n",
    "* From B, select all 25 points\n",
    "* From C, select all 50 points\n",
    "* Proportion of Minor class: 5% (B) and 10% (C)\n"
   ]
  },
  {
   "cell_type": "code",
   "execution_count": null,
   "metadata": {
    "slideshow": {
     "slide_type": "subslide"
    }
   },
   "outputs": [],
   "source": [
    "import pandas as pd\n",
    "import matplotlib.pyplot as plt\n",
    "import seaborn as sns\n",
    "%matplotlib inline\n",
    "from sklearn.model_selection import train_test_split\n",
    "from sklearn.preprocessing import LabelEncoder"
   ]
  },
  {
   "cell_type": "code",
   "execution_count": null,
   "metadata": {
    "slideshow": {
     "slide_type": "subslide"
    }
   },
   "outputs": [],
   "source": [
    "loan_predition = pd.read_csv(\"../data/loan_prediction.csv\", )\n",
    "loan_predition.head()"
   ]
  },
  {
   "cell_type": "code",
   "execution_count": null,
   "metadata": {
    "slideshow": {
     "slide_type": "subslide"
    }
   },
   "outputs": [],
   "source": [
    "label_enc = LabelEncoder()\n",
    "for column in loan_predition.select_dtypes(include=[\"object\"]).columns.values:\n",
    "    loan_predition[column] = label_enc.fit_transform(loan_predition[column])"
   ]
  },
  {
   "cell_type": "code",
   "execution_count": null,
   "metadata": {},
   "outputs": [],
   "source": [
    "loan_predition.Loan_Status.value_counts()\n",
    "loan_predition.Loan_Status.value_counts(normalize = True)"
   ]
  },
  {
   "cell_type": "code",
   "execution_count": null,
   "metadata": {},
   "outputs": [],
   "source": [
    "422/192"
   ]
  },
  {
   "cell_type": "code",
   "execution_count": null,
   "metadata": {
    "scrolled": true,
    "slideshow": {
     "slide_type": "subslide"
    }
   },
   "outputs": [],
   "source": [
    "sns.countplot(loan_predition.Loan_Status);"
   ]
  },
  {
   "cell_type": "code",
   "execution_count": null,
   "metadata": {},
   "outputs": [],
   "source": [
    "I am calling my minority class as 1\n",
    "I am calling my majority class as 0"
   ]
  },
  {
   "cell_type": "code",
   "execution_count": null,
   "metadata": {
    "slideshow": {
     "slide_type": "subslide"
    }
   },
   "outputs": [],
   "source": [
    "loan_predition.replace({0:1, 1:0}, inplace=True)\n",
    "# index_values = loan_predition[loan_predition.Loan_Status == 1][100:].index.values\n",
    "# loan_predition = loan_predition.drop(loan_predition.index[list(index_values)])\n",
    "sns.countplot(loan_predition.Loan_Status);"
   ]
  },
  {
   "cell_type": "code",
   "execution_count": null,
   "metadata": {
    "slideshow": {
     "slide_type": "subslide"
    }
   },
   "outputs": [],
   "source": [
    "from sklearn.ensemble import RandomForestClassifier\n",
    "from sklearn.metrics import f1_score, confusion_matrix\n",
    "from sklearn.metrics import precision_score, recall_score\n",
    "from sklearn.metrics import roc_auc_score"
   ]
  },
  {
   "cell_type": "code",
   "execution_count": null,
   "metadata": {
    "slideshow": {
     "slide_type": "subslide"
    }
   },
   "outputs": [],
   "source": [
    "X_train, X_test, y_train, y_test = train_test_split(loan_predition.iloc[:,:-1], \n",
    "                                                    loan_predition.iloc[:,-1], \n",
    "                                                    random_state=9)"
   ]
  },
  {
   "cell_type": "code",
   "execution_count": null,
   "metadata": {
    "scrolled": true
   },
   "outputs": [],
   "source": [
    "y_train.value_counts()"
   ]
  },
  {
   "cell_type": "code",
   "execution_count": null,
   "metadata": {},
   "outputs": [],
   "source": [
    "319/141"
   ]
  },
  {
   "cell_type": "code",
   "execution_count": null,
   "metadata": {
    "scrolled": true,
    "slideshow": {
     "slide_type": "subslide"
    }
   },
   "outputs": [],
   "source": [
    "rf = RandomForestClassifier(random_state=9)\n",
    "rf.fit(X_train, y_train)\n",
    "print(\"f1_score\", f1_score(y_test, rf.predict(X_test)))\n",
    "print(\"precision_score\", precision_score(y_test, rf.predict(X_test)))\n",
    "print(\"recall\", recall_score(y_test, rf.predict(X_test)))\n",
    "print(\"auc\", roc_auc_score(y_test, rf.predict(X_test)))\n",
    "print(confusion_matrix(y_test, rf.predict(X_test)))"
   ]
  },
  {
   "cell_type": "code",
   "execution_count": null,
   "metadata": {},
   "outputs": [],
   "source": [
    "Has less coverage but precisely saying yes"
   ]
  },
  {
   "cell_type": "code",
   "execution_count": null,
   "metadata": {
    "slideshow": {
     "slide_type": "subslide"
    }
   },
   "outputs": [],
   "source": [
    "from sklearn.linear_model import LogisticRegression\n",
    "\n",
    "lr = LogisticRegression(random_state=9)\n",
    "lr.fit(X_train, y_train)\n",
    "print(\"f1_score\", f1_score(y_test, lr.predict(X_test)))\n",
    "print(precision_score(y_test, lr.predict(X_test)))\n",
    "print(recall_score(y_test, lr.predict(X_test)))\n",
    "print(roc_auc_score(y_test, lr.predict(X_test)))\n",
    "print(confusion_matrix(y_test, lr.predict(X_test)))"
   ]
  },
  {
   "cell_type": "markdown",
   "metadata": {
    "slideshow": {
     "slide_type": "slide"
    }
   },
   "source": [
    "<img src=\"../images/Technical-Stuff.png\" alt=\"Technical-Stuff\" style=\"width: 100px;float:left; margin-right:15px\"/>\n",
    "<br />\n",
    "\n",
    "## Undersampling with `imblearn`:\n",
    "***"
   ]
  },
  {
   "cell_type": "code",
   "execution_count": null,
   "metadata": {},
   "outputs": [],
   "source": [
    "training will happen on balance dataset ()\n",
    "however your testing will still happen on imbalance data set"
   ]
  },
  {
   "cell_type": "code",
   "execution_count": null,
   "metadata": {
    "scrolled": true,
    "slideshow": {
     "slide_type": "subslide"
    }
   },
   "outputs": [],
   "source": [
    "from imblearn.under_sampling import RandomUnderSampler\n",
    "\n",
    "# Create the samplers\n",
    "rus = RandomUnderSampler(random_state=9)\n",
    "X_sample2, y_sample2 =  rus.fit_sample(X_train, y_train)\n",
    "y_sample2.value_counts()"
   ]
  },
  {
   "cell_type": "code",
   "execution_count": null,
   "metadata": {},
   "outputs": [],
   "source": [
    "sns.countplot(y_sample2);"
   ]
  },
  {
   "cell_type": "code",
   "execution_count": null,
   "metadata": {
    "slideshow": {
     "slide_type": "subslide"
    }
   },
   "outputs": [],
   "source": [
    "rf2 = RandomForestClassifier(random_state=9)\n",
    "rf2.fit(X_sample2, y_sample2)\n",
    "print(\"f1_score\", f1_score(y_test, rf2.predict(X_test)))\n",
    "print(precision_score(y_test, rf2.predict(X_test)))\n",
    "print(recall_score(y_test, rf2.predict(X_test)))\n",
    "print(roc_auc_score(y_test, rf2.predict(X_test)))\n",
    "print(confusion_matrix(y_test, rf2.predict(X_test)))"
   ]
  },
  {
   "cell_type": "code",
   "execution_count": null,
   "metadata": {
    "slideshow": {
     "slide_type": "subslide"
    }
   },
   "outputs": [],
   "source": [
    "rf2 = LogisticRegression(random_state=9)\n",
    "rf2.fit(X_sample2, y_sample2)\n",
    "print(\"f1_score\", f1_score(y_test, rf2.predict(X_test)))\n",
    "print(precision_score(y_test, rf2.predict(X_test)))\n",
    "print(recall_score(y_test, rf2.predict(X_test)))\n",
    "print(roc_auc_score(y_test, rf2.predict(X_test)))\n",
    "print(confusion_matrix(y_test, rf2.predict(X_test)))"
   ]
  },
  {
   "cell_type": "markdown",
   "metadata": {
    "slideshow": {
     "slide_type": "slide"
    }
   },
   "source": [
    "<img src=\"../images/Technical-Stuff.png\" alt=\"Technical-Stuff\" style=\"width: 100px;float:left; margin-right:15px\"/>\n",
    "<br />\n",
    "\n",
    "## Undersampling - Cluster Centroids\n",
    "***\n",
    "* This technique undersampled by creation of new samples. \n",
    "* Let’s understand how\n",
    "    * Size of minority class: 200\n",
    "    * Size of majority class: 1000\n",
    "* Cluster centroids method works by creating 200 clusters of the majority class and returns the centroids of each of the clusters. Hence, rather than sampling from the original data points we get new representative sample "
   ]
  },
  {
   "cell_type": "code",
   "execution_count": null,
   "metadata": {},
   "outputs": [],
   "source": [
    "1000 --> 200\n",
    "RS --> sampling\n",
    "\n",
    "centroid\n",
    "clustering on 1000 records with K = 200\n",
    "200 centroids"
   ]
  },
  {
   "cell_type": "code",
   "execution_count": null,
   "metadata": {
    "slideshow": {
     "slide_type": "subslide"
    }
   },
   "outputs": [],
   "source": [
    "from imblearn.under_sampling import ClusterCentroids\n",
    "\n",
    "cc = ClusterCentroids(random_state=9)\n",
    "X_sample3, y_sample3 = cc.fit_sample(X_train, y_train)\n",
    "y_sample3.value_counts()"
   ]
  },
  {
   "cell_type": "code",
   "execution_count": null,
   "metadata": {},
   "outputs": [],
   "source": [
    "sns.countplot(y_sample3)"
   ]
  },
  {
   "cell_type": "code",
   "execution_count": null,
   "metadata": {
    "slideshow": {
     "slide_type": "subslide"
    }
   },
   "outputs": [],
   "source": [
    "rf3 = RandomForestClassifier(random_state=9)\n",
    "rf3.fit(X_sample3, y_sample3)\n",
    "print(\"f1_score\", f1_score(y_test, rf3.predict(X_test)))\n",
    "print(precision_score(y_test, rf3.predict(X_test)))\n",
    "print(recall_score(y_test, rf3.predict(X_test)))\n",
    "print(roc_auc_score(y_test, rf3.predict(X_test)))\n",
    "print(confusion_matrix(y_test, rf3.predict(X_test)))"
   ]
  },
  {
   "cell_type": "code",
   "execution_count": null,
   "metadata": {
    "slideshow": {
     "slide_type": "subslide"
    }
   },
   "outputs": [],
   "source": [
    "rf3 = LogisticRegression(random_state=9)\n",
    "rf3.fit(X_sample3, y_sample3)\n",
    "print(\"f1_score\", f1_score(y_test, rf3.predict(X_test)))\n",
    "print(precision_score(y_test, rf3.predict(X_test)))\n",
    "print(recall_score(y_test, rf3.predict(X_test)))\n",
    "print(roc_auc_score(y_test, rf3.predict(X_test)))\n",
    "print(confusion_matrix(y_test, rf3.predict(X_test)))"
   ]
  },
  {
   "cell_type": "markdown",
   "metadata": {
    "slideshow": {
     "slide_type": "slide"
    }
   },
   "source": [
    "<img src=\"../images/Technical-Stuff.png\" alt=\"Technical-Stuff\" style=\"width: 100px;float:left; margin-right:15px\"/>\n",
    "<br />\n",
    "\n",
    "## Undersampling - Tomek Links\n",
    "***\n",
    "* Tomek Links are pairs of instances of opposite classes who are their own nearest neighbors.\n",
    "* This technique identifies Tomek Links and gets rid of the majority samples.\n",
    "* The idea is to clarify the border between the minority and majority classes, making the minority region(s) more distinct. \n",
    "\n",
    "![](../images/image31.png)"
   ]
  },
  {
   "cell_type": "code",
   "execution_count": null,
   "metadata": {
    "slideshow": {
     "slide_type": "subslide"
    }
   },
   "outputs": [],
   "source": [
    "from imblearn.under_sampling import TomekLinks\n",
    "\n",
    "tl = TomekLinks(sampling_strategy='not minority')\n",
    "X_sample4, y_sample4 = tl.fit_sample(X_train, y_train)\n",
    "sns.countplot(y_sample4)"
   ]
  },
  {
   "cell_type": "code",
   "execution_count": null,
   "metadata": {
    "slideshow": {
     "slide_type": "subslide"
    }
   },
   "outputs": [],
   "source": [
    "from sklearn.linear_model import LogisticRegression"
   ]
  },
  {
   "cell_type": "code",
   "execution_count": null,
   "metadata": {
    "slideshow": {
     "slide_type": "subslide"
    }
   },
   "outputs": [],
   "source": [
    "rf4 = RandomForestClassifier()\n",
    "rf4.fit(X_sample4, y_sample4)\n",
    "print(\"f1_score\", f1_score(y_test, rf4.predict(X_test)))\n",
    "print(precision_score(y_test, rf4.predict(X_test)))\n",
    "print(recall_score(y_test, rf4.predict(X_test)))\n",
    "print(roc_auc_score(y_test, rf4.predict(X_test)))\n",
    "print(confusion_matrix(y_test, rf4.predict(X_test)))"
   ]
  },
  {
   "cell_type": "code",
   "execution_count": null,
   "metadata": {
    "slideshow": {
     "slide_type": "subslide"
    }
   },
   "outputs": [],
   "source": [
    "rf4 = LogisticRegression()\n",
    "rf4.fit(X_sample4, y_sample4)\n",
    "print(\"f1_score\", f1_score(y_test, rf4.predict(X_test)))\n",
    "print(precision_score(y_test, rf4.predict(X_test)))\n",
    "print(recall_score(y_test, rf4.predict(X_test)))\n",
    "print(roc_auc_score(y_test, rf4.predict(X_test)))\n",
    "print(confusion_matrix(y_test, rf4.predict(X_test)))"
   ]
  },
  {
   "cell_type": "markdown",
   "metadata": {
    "slideshow": {
     "slide_type": "slide"
    }
   },
   "source": [
    "## Oversampling:\n",
    "***\n",
    "As opposed to undersamping, oversampling techniques try to make the classes balanced by enhancing the minority class using different techniques.\n",
    "\n",
    "![](../images/image29.png)"
   ]
  },
  {
   "cell_type": "markdown",
   "metadata": {
    "slideshow": {
     "slide_type": "slide"
    }
   },
   "source": [
    "<img src=\"../images/Technical-Stuff.png\" alt=\"Technical-Stuff\" style=\"width: 100px;float:left; margin-right:15px\"/>\n",
    "<br />\n",
    "\n",
    "## Oversampling - Random Oversampling\n",
    "***\n",
    "Random oversampling selects the samples with replacement from the minority class.\n",
    "\n",
    "**Example 1**\n",
    "\n",
    "* Total number of observations: 1000\n",
    "* Total number of classes: 2 (A, B)\n",
    "* Size of class A: 975\n",
    "* Size of class B: 25\n",
    "* Proportion of Minor class: 2.5%"
   ]
  },
  {
   "cell_type": "markdown",
   "metadata": {
    "slideshow": {
     "slide_type": "subslide"
    }
   },
   "source": [
    "Sampled Dataset\n",
    "* From A, select all 975 points\n",
    "* From B, select 225 points with replacement\n",
    "* Proportion of Minor class: 18.75%"
   ]
  },
  {
   "cell_type": "markdown",
   "metadata": {
    "slideshow": {
     "slide_type": "subslide"
    }
   },
   "source": [
    "**Example 2**\n",
    "\n",
    "* Total number of observations: 1000\n",
    "* Total number of classes: 3 (A, B, C)\n",
    "* Size of class A: 925\n",
    "* Size of class B: 25\n",
    "* Size of class C: 50\n",
    "* Proportion of Minor classes: 2.5% (B) and 5% (C)"
   ]
  },
  {
   "cell_type": "markdown",
   "metadata": {
    "slideshow": {
     "slide_type": "subslide"
    }
   },
   "source": [
    "**Sampled Dataset**\n",
    "* From A, select all 925 points\n",
    "* From B, select 225 points with replacement\n",
    "* From C, select 450 points with replacement\n",
    "* Proportion of Minor class: ~14% (B) and ~28% (C)"
   ]
  },
  {
   "cell_type": "code",
   "execution_count": null,
   "metadata": {
    "slideshow": {
     "slide_type": "subslide"
    }
   },
   "outputs": [],
   "source": [
    "from imblearn.over_sampling import RandomOverSampler\n",
    "\n",
    "ros = RandomOverSampler(random_state=9)\n",
    "X_sample5, y_sample5 = ros.fit_sample(X_train, y_train)\n",
    "y_sample5.value_counts()"
   ]
  },
  {
   "cell_type": "code",
   "execution_count": null,
   "metadata": {},
   "outputs": [],
   "source": [
    "sns.countplot(y_sample5)"
   ]
  },
  {
   "cell_type": "code",
   "execution_count": null,
   "metadata": {
    "slideshow": {
     "slide_type": "subslide"
    }
   },
   "outputs": [],
   "source": [
    "rf5 = RandomForestClassifier(random_state=9)\n",
    "rf5.fit(X_sample5, y_sample5)\n",
    "print(\"f1_score\", f1_score(y_test, rf5.predict(X_test)))\n",
    "print(precision_score(y_test, rf5.predict(X_test)))\n",
    "print(recall_score(y_test, rf5.predict(X_test)))\n",
    "print(roc_auc_score(y_test, rf5.predict(X_test)))\n",
    "print(confusion_matrix(y_test, rf5.predict(X_test)))"
   ]
  },
  {
   "cell_type": "code",
   "execution_count": null,
   "metadata": {
    "slideshow": {
     "slide_type": "subslide"
    }
   },
   "outputs": [],
   "source": [
    "rf5 = LogisticRegression(random_state=9)\n",
    "rf5.fit(X_sample5, y_sample5)\n",
    "print(\"f1_score\", f1_score(y_test, rf5.predict(X_test)))\n",
    "print(precision_score(y_test, rf5.predict(X_test)))\n",
    "print(recall_score(y_test, rf5.predict(X_test)))\n",
    "print(roc_auc_score(y_test, rf5.predict(X_test)))\n",
    "print(confusion_matrix(y_test, rf5.predict(X_test)))"
   ]
  },
  {
   "cell_type": "markdown",
   "metadata": {
    "slideshow": {
     "slide_type": "slide"
    }
   },
   "source": [
    "<img src=\"../images/Technical-Stuff.png\" alt=\"Technical-Stuff\" style=\"width: 100px;float:left; margin-right:15px\"/>\n",
    "<br />\n",
    "\n",
    "## Oversampling - SMOTE (Synthetic Minority Oversampling Technique)\n",
    "***\n",
    "* The original paper: [SMOTE: Synthetic Minority Over-sampling Technique](https://arxiv.org/pdf/1106.1813.pdf)\n",
    "* The minority class is over-sampled by creating synthetic examples rather than by over-sampling with replacement.\n",
    "* It generates synthetic examples in a less application-specific manner, by operating in feature space rather than data space.\n",
    "* The minority class is over-sampled by taking each minority class sample and introducing synthetic examples along the line segments joining any/all of the k minority class nearest neighbors."
   ]
  },
  {
   "cell_type": "code",
   "execution_count": null,
   "metadata": {},
   "outputs": [],
   "source": [
    "3 records of majority\n",
    "1 record of minority"
   ]
  },
  {
   "cell_type": "markdown",
   "metadata": {
    "slideshow": {
     "slide_type": "subslide"
    }
   },
   "source": [
    "<img src=\"../images/Technical-Stuff.png\" alt=\"Technical-Stuff\" style=\"width: 100px;float:left; margin-right:15px\"/>\n",
    "<br />\n",
    "\n",
    "## How SMOTE works:\n",
    "***\n",
    "* Take the difference between the feature vector (sample) under consideration and its nearest neighbor.\n",
    "* Multiply this difference by a random number between 0 and 1, and add it to the feature vector under consideration.\n",
    "* This causes the selection of a random point along the line segment between two specific features.\n",
    "![](../images/image32.png)"
   ]
  },
  {
   "cell_type": "markdown",
   "metadata": {
    "slideshow": {
     "slide_type": "subslide"
    }
   },
   "source": [
    "* Depending upon the amount of over-sampling required, neighbors from the k nearest neighbors are randomly chosen.\n",
    "* For instance, if the amount of over-sampling needed is 200%, only two neighbors from the five nearest neighbors are chosen and one sample is generated in the direction of each.\n",
    "* NOTE: this k becomes a hyperparameter for SMOTE algorithm"
   ]
  },
  {
   "cell_type": "markdown",
   "metadata": {
    "slideshow": {
     "slide_type": "subslide"
    }
   },
   "source": [
    "* Limitation: Because it operates by interpolating between rare examples.\n",
    "* Hence, it can only generate examples within the body of available examples—never outside."
   ]
  },
  {
   "cell_type": "code",
   "execution_count": null,
   "metadata": {
    "slideshow": {
     "slide_type": "subslide"
    }
   },
   "outputs": [],
   "source": [
    "from imblearn.over_sampling import BorderlineSMOTE\n",
    "\n",
    "smote = BorderlineSMOTE(random_state=9, kind=\"borderline-2\")\n",
    "X_sample6, y_sample6 = smote.fit_sample(X_train, y_train)\n",
    "sns.countplot(y_sample6)"
   ]
  },
  {
   "cell_type": "code",
   "execution_count": null,
   "metadata": {
    "slideshow": {
     "slide_type": "subslide"
    }
   },
   "outputs": [],
   "source": [
    "from sklearn.metrics import precision_score, recall_score, roc_auc_score"
   ]
  },
  {
   "cell_type": "code",
   "execution_count": null,
   "metadata": {
    "slideshow": {
     "slide_type": "subslide"
    }
   },
   "outputs": [],
   "source": [
    "rf6 = RandomForestClassifier(random_state=9)\n",
    "rf6.fit(X_sample6, y_sample6)\n",
    "print(\"f1_score\", f1_score(y_test, rf6.predict(X_test)))\n",
    "print(precision_score(y_test, rf6.predict(X_test)))\n",
    "print(recall_score(y_test, rf6.predict(X_test)))\n",
    "print(roc_auc_score(y_test, rf6.predict(X_test)))\n",
    "print(confusion_matrix(y_test, rf6.predict(X_test)))"
   ]
  },
  {
   "cell_type": "code",
   "execution_count": null,
   "metadata": {
    "slideshow": {
     "slide_type": "subslide"
    }
   },
   "outputs": [],
   "source": [
    "rf6 = LogisticRegression(random_state=9)\n",
    "rf6.fit(X_sample6, y_sample6)\n",
    "print(\"f1_score\", f1_score(y_test, rf6.predict(X_test)))\n",
    "print(precision_score(y_test, rf6.predict(X_test)))\n",
    "print(recall_score(y_test, rf6.predict(X_test)))\n",
    "print(roc_auc_score(y_test, rf6.predict(X_test)))\n",
    "print(confusion_matrix(y_test, rf6.predict(X_test)))"
   ]
  },
  {
   "cell_type": "markdown",
   "metadata": {
    "slideshow": {
     "slide_type": "slide"
    }
   },
   "source": [
    "## Algorithmic Approach\n",
    "***\n",
    "In algorithmic approach, we use different techniques to tweak the algorithms to make them learn minority classes "
   ]
  },
  {
   "cell_type": "markdown",
   "metadata": {
    "slideshow": {
     "slide_type": "slide"
    }
   },
   "source": [
    "## Algorithmic Approach - Cost Sensitive Training (Penalised Training): \n",
    "***\n",
    "* One way to do so is to create a custom metric which penalizes wrong predictions in the minority class.\n",
    "* Recall the metric the we defined while discussing the metrics of evaluation:\n",
    "* metric=(5 ∗ false negative + 1 ∗ false positive) / 6\n",
    "* Such metrics could be used in handling the imbalanced datasets.\n",
    "* sklearn provides a method to device custom metrics."
   ]
  },
  {
   "cell_type": "markdown",
   "metadata": {
    "slideshow": {
     "slide_type": "slide"
    }
   },
   "source": [
    "<img src=\"../images/Technical-Stuff.png\" alt=\"Technical-Stuff\" style=\"width: 100px;float:left; margin-right:15px\"/>\n",
    "<br />\n",
    "\n",
    "## Algorithmic Approach - Choice of Algorithm:\n",
    "***\n",
    "* Ensemble methods, especially Random Forests are found to be good at handling imbalanced datasets\n",
    "* These methods are able to learn classes based on importance assigned to them.\n",
    "* sklearn's implementations of these algorithms provides option to handle imbalanced dataset by setting the **`class_weight`** parameter.\n"
   ]
  },
  {
   "cell_type": "code",
   "execution_count": null,
   "metadata": {},
   "outputs": [],
   "source": [
    "2 class records of 0\n",
    "1 reocrd of 1 - minority class\n",
    "2:1"
   ]
  },
  {
   "cell_type": "code",
   "execution_count": null,
   "metadata": {
    "scrolled": true,
    "slideshow": {
     "slide_type": "subslide"
    }
   },
   "outputs": [],
   "source": [
    "class_wts = range(50)\n",
    "f1s = []\n",
    "auc = []\n",
    "precs = []\n",
    "recalls = []\n",
    "\n",
    "for wt in class_wts:\n",
    "    rf7 = RandomForestClassifier(random_state=9, class_weight={0:wt,1:1})\n",
    "    rf7.fit(X_train, y_train)\n",
    "    f1s.append(f1_score(y_test, rf7.predict(X_test)))\n",
    "    precs.append(precision_score(y_test, rf7.predict(X_test)))\n",
    "    recalls.append(recall_score(y_test, rf7.predict(X_test)))\n",
    "    auc.append(roc_auc_score(y_test, rf7.predict(X_test)))"
   ]
  },
  {
   "cell_type": "code",
   "execution_count": null,
   "metadata": {
    "scrolled": true
   },
   "outputs": [],
   "source": [
    "np.argmax(auc)"
   ]
  },
  {
   "cell_type": "code",
   "execution_count": null,
   "metadata": {},
   "outputs": [],
   "source": [
    "np.argmax(auc)\n",
    "np.argmax(f1s)\n",
    "np.argmax(precs)\n",
    "np.argmax(recalls)"
   ]
  },
  {
   "cell_type": "code",
   "execution_count": null,
   "metadata": {},
   "outputs": [],
   "source": [
    "recalls[:10]"
   ]
  },
  {
   "cell_type": "code",
   "execution_count": null,
   "metadata": {
    "slideshow": {
     "slide_type": "subslide"
    }
   },
   "outputs": [],
   "source": [
    "import numpy as np\n",
    "#max_scorer = f1s.index(np.max(f1s))\n",
    "max_scorer = precs.index(np.max(precs))\n",
    "max_scorer\n",
    "rf7 = RandomForestClassifier(random_state=9, class_weight={0:max_scorer,1:1})\n",
    "rf7.fit(X_train, y_train)\n",
    "print(\"f1_score\", f1_score(y_test, rf7.predict(X_test)))\n",
    "print(precision_score(y_test, rf7.predict(X_test)))\n",
    "print(recall_score(y_test, rf7.predict(X_test)))\n",
    "print(roc_auc_score(y_test, rf7.predict(X_test)))\n",
    "print(confusion_matrix(y_test, rf7.predict(X_test)))"
   ]
  },
  {
   "cell_type": "code",
   "execution_count": null,
   "metadata": {
    "slideshow": {
     "slide_type": "subslide"
    }
   },
   "outputs": [],
   "source": [
    "plt.figure(figsize=(10, 8));\n",
    "plt.plot(class_wts, f1s, label=\"F1 scores\");\n",
    "plt.plot(class_wts, auc, label=\"AUC scores\");\n",
    "plt.xlabel(\"class weight\");\n",
    "plt.ylabel(\"scores\");\n",
    "plt.title(\"Effect of Class Wt. in Imbalanced Classes\");\n",
    "plt.ylim(0.45, 0.8);\n",
    "plt.legend();"
   ]
  },
  {
   "cell_type": "markdown",
   "metadata": {
    "slideshow": {
     "slide_type": "subslide"
    }
   },
   "source": [
    "## Some Useful tips:\n",
    "***\n",
    "* While carrying out cross-validation, make stratified folds to make sure the presence of minority class in all folds\n",
    "* Instead of predictions, get probabilities from the trained classifier.\n",
    "* Study the AUC-ROC curve and adjust the prediction threshold"
   ]
  },
  {
   "cell_type": "markdown",
   "metadata": {
    "slideshow": {
     "slide_type": "subslide"
    }
   },
   "source": [
    "\"Phew! that was a lot of techniques to understand in one go!\", John already looked overwhelmed. Lucius, smiling mildly, just added: \"and we just scratched the surface\". There are a lot more techniques that can be employed. It might be worth checking out `imblearn's` official documentation."
   ]
  },
  {
   "cell_type": "markdown",
   "metadata": {
    "slideshow": {
     "slide_type": "slide"
    }
   },
   "source": [
    "## Off to other challenges\n",
    "***\n",
    "After concluding the discussion on imbalanced datasets, John started wondering about some more problems that can come along the way. He remembered being told again and again how important the data is for any ML problem. He immediately started thinking what if there is too little data?"
   ]
  },
  {
   "cell_type": "markdown",
   "metadata": {
    "slideshow": {
     "slide_type": "slide"
    }
   },
   "source": [
    "<img src=\"../images/Concept-Alert.png\" alt=\"Concept-Alert\" style=\"width: 100px;float:left; margin-right:15px\"/>\n",
    "\n",
    "<br />\n",
    "\n",
    "## Dealing with Smaller Datasets:\n",
    "***\n",
    "Sometimes, challenge arises not because of too much data, but because of too less data. Such a scenario is known as  **the curse of dimensionality**, which essentially means **number of features >> number of observations**\n",
    "\n",
    "\n",
    "* In case of such small datasets, following are some of the techniques that could come in handy\n",
    "    * Exploit Bootstrapping\n",
    "    * Use Simpler, Regularized Models (definitelye yes)\n",
    "    * Use Ensemble Techniques (Not sure)\n",
    "    * Use Support Vector Machines (yes)"
   ]
  },
  {
   "cell_type": "code",
   "execution_count": null,
   "metadata": {},
   "outputs": [],
   "source": [
    "feature selection"
   ]
  },
  {
   "cell_type": "markdown",
   "metadata": {
    "slideshow": {
     "slide_type": "slide"
    }
   },
   "source": [
    "## Value of K in Koolness\n",
    "***\n",
    "What is the value of k in k-fold validation that should be used?"
   ]
  },
  {
   "cell_type": "markdown",
   "metadata": {
    "slideshow": {
     "slide_type": "subslide"
    }
   },
   "source": [
    "## Optimum Value of K in K-Fold Validation:\n",
    "***\n",
    "* Refresher: Why do we use cross-validation?\n",
    "* Trade-off:\n",
    "    * Higher K: More samples to train, more cross-validation, results in less bias, high variance but requires more computations\n",
    "    * Lower K: Less samples to train, less cross-validation, results in more bias, low variance but requires less computations"
   ]
  },
  {
   "cell_type": "markdown",
   "metadata": {
    "slideshow": {
     "slide_type": "subslide"
    }
   },
   "source": [
    "## Optimum Value of K in K-Fold Validation:\n",
    "***\n",
    "* According to paper [A Study of Cross Validation and Bootstrap for Accuracy Estimation and Model Selection](http://robotics.stanford.edu/~ronnyk/accEst.pdf), value of k=10 is a good balance between accuracy and training time\n",
    "* Stratified k-fold seems to perform better\n",
    "![](../images/image33.png)"
   ]
  },
  {
   "cell_type": "markdown",
   "metadata": {
    "slideshow": {
     "slide_type": "subslide"
    }
   },
   "source": [
    "## Optimum Value of K in K-Fold Validation:\n",
    "***\n",
    "\n",
    "* [Here](https://vinhkhuc.github.io/2015/03/01/how-many-folds-for-cross-validation.html) is a python implementation of the same experiment for iris dataset.\n",
    "* For smaller datasets, usually leave-one-out validation works fine."
   ]
  },
  {
   "cell_type": "markdown",
   "metadata": {
    "slideshow": {
     "slide_type": "slide"
    }
   },
   "source": [
    "<img src=\"../images/Concept-Alert.png\" alt=\"Concept-Alert\" style=\"width: 100px;float:left; margin-right:15px\"/>\n",
    "\n",
    "<br />\n",
    "\n",
    "## The Age old Question - Which Algorithm to Use?\n",
    "***\n",
    "Having studied a bunch of algorithms is good, but choosing which one to use is not! Let's understand which algorithms perform better in which scenarios."
   ]
  },
  {
   "cell_type": "markdown",
   "metadata": {
    "slideshow": {
     "slide_type": "slide"
    }
   },
   "source": [
    "## Which Algorithm to Use? - A perspective from a Research Paper\n",
    "***\n",
    "In [this](http://jmlr.org/papers/volume15/delgado14a/delgado14a.pdf) paper,\n",
    "The researchers evaluated **179 classifiers** arising from **17 families**, implemented in Weka, R, C and Matlab.\n",
    "They used **121 datasets**, which represent the whole UCI database and other real problems, in order to achieve significant conclusions about the classifier behavior, not dependent on the data set collection."
   ]
  },
  {
   "cell_type": "markdown",
   "metadata": {
    "slideshow": {
     "slide_type": "subslide"
    }
   },
   "source": [
    "## Which Algorithm to Use? - A perspective from a Research Paper\n",
    "***\n",
    "**Key Findings:**\n",
    "\n",
    "* The classifiers most likely to be the bests are the random forest (RF) versions, the best of which achieves 94.1% of the maximum accuracy overcoming 90% in the 84.3% (102 out of 121) of the data sets.\n",
    "* The SVM with Gaussian kernel (implemented in C using LibSVM) achieves 92.3% of the maximum accuracy."
   ]
  },
  {
   "cell_type": "markdown",
   "metadata": {
    "slideshow": {
     "slide_type": "subslide"
    }
   },
   "source": [
    "## Which Algorithm to Use? - A perspective from a Research Paper\n",
    "***\n",
    "A few models are clearly better than the remaining ones:\n",
    "* Random forest\n",
    "* SVM with Gaussian and polynomial kernels\n",
    "* C5.0 decision tree\n",
    "* avNNet (the multi-layer perceptron)"
   ]
  },
  {
   "cell_type": "markdown",
   "metadata": {
    "slideshow": {
     "slide_type": "subslide"
    }
   },
   "source": [
    "## Which Algorithm to Use? - A perspective from a Research Paper\n",
    "***\n",
    "**Paper Summary**\n",
    "\n",
    "* The random forest was found to be clearly the best family of classifiers (3 out of 5 bests classifiers are RF), followed by SVM (4 classifiers in the top-10), neural networks and boosting ensembles (5 and 3 members in the top-20, respectively)."
   ]
  },
  {
   "cell_type": "markdown",
   "metadata": {
    "slideshow": {
     "slide_type": "slide"
    }
   },
   "source": [
    "## Which Algorithm to Use? - Some practical Tips\n",
    "***\n",
    "So far we have learnt about a bunch of algorithms. We have learnt about 2 families of algorithm\n",
    "    * Linear Models\n",
    "    * Ensemble Models\n",
    "\n",
    "The question is then which algorithm to use and when? Let’s have a look at some quick ideas\n"
   ]
  },
  {
   "cell_type": "markdown",
   "metadata": {
    "slideshow": {
     "slide_type": "subslide"
    }
   },
   "source": [
    "## Which Algorithm to Use? - Some practical Tips\n",
    "***\n",
    "Penalized linear regression methods have the advantage that they train very quickly. That helps us for 2 reasons\n",
    "* Training times on large data sets can extend to hours, days, or even weeks.\n",
    "* Long training times can stall development and deployment on large problems.\n",
    "Training usually needs to be done several times before a deployable solution is arrived at."
   ]
  },
  {
   "cell_type": "markdown",
   "metadata": {
    "slideshow": {
     "slide_type": "subslide"
    }
   },
   "source": [
    "## Which Algorithm to Use? - Some practical Tips\n",
    "***\n",
    "* Hence, rapid training time for penalized linear methods makes them useful for the obvious reason that shorter is better. \n",
    "* However, Depending on the problem, these methods may suffer some performance disadvantages relative to ensemble methods.\n",
    "* Therefore, penalized linear methods can be a useful first step in your development process even in the circumstance where they yield inferior performance to ensemble methods.\n"
   ]
  },
  {
   "cell_type": "markdown",
   "metadata": {
    "slideshow": {
     "slide_type": "subslide"
    }
   },
   "source": [
    "## Which Algorithm to Use? - Some practical Tips\n",
    "***\n",
    "* Besides enjoying a training time advantage, penalized linear methods generate predictions much faster than ensemble methods. \n",
    "* Generating a prediction involves using the trained model. The trained model for penalized linear regression is simply a list of real numbers—one for each feature being used to make the predictions. \n",
    "* The number of floating‐point operations involved is the number of variables being used to make predictions. \n",
    "* For highly time‐sensitive predictions such as high‐speed trading or Internet ad insertions, computation time makes the difference between making money and losing money. \n"
   ]
  },
  {
   "cell_type": "markdown",
   "metadata": {
    "slideshow": {
     "slide_type": "subslide"
    }
   },
   "source": [
    "## Which Algorithm to Use? - Some practical Tips\n",
    "***\n",
    "* On the other hand ensemble methods bring to the table the ability to work with nonlinear data\n",
    "* We can also easily control the complexity of ensemble models by tuning the hyperparameters\n",
    "* Also, ensemble methods come with the ability to tell apart important features from relatively redundant ones. Which is one of the huge advantages of ensemble methdos\n",
    "* Hence, ensemble methods could be used as the final predictors after feature engineering and feature selection has been carried out\n"
   ]
  },
  {
   "cell_type": "markdown",
   "metadata": {
    "slideshow": {
     "slide_type": "subslide"
    }
   },
   "source": [
    "## Which Algorithm to Use? - Some practical Tips\n",
    "***\n",
    "![](../images/image34.png)"
   ]
  },
  {
   "cell_type": "markdown",
   "metadata": {
    "slideshow": {
     "slide_type": "subslide"
    }
   },
   "source": [
    "## Which Algorithm to Use? - Some practical Tips\n",
    "***\n",
    "![](../images/image35.png)"
   ]
  },
  {
   "cell_type": "code",
   "execution_count": null,
   "metadata": {},
   "outputs": [],
   "source": [
    "cat and dog\n",
    "new label \n",
    "Retrain !!\n",
    "\n",
    "Data Drift"
   ]
  },
  {
   "cell_type": "markdown",
   "metadata": {},
   "source": [
    "# InClass Activity"
   ]
  },
  {
   "cell_type": "markdown",
   "metadata": {},
   "source": [
    "## Credit Delinquency Prediction\n",
    "\n",
    "\n",
    "### Problem statement\n",
    "\n",
    "Delinquency describes something or someone who fails to accomplish that which is required by law, duty, or contractual agreement, such as the failure to make a required payment or perform a particular action.\n",
    "\n",
    "Credit scoring algorithms, which makes a guess at the probability of default, are the method banks use to determine whether or not a loan should be granted. This use-case requires learners to improve on the state of the art in credit scoring, by predicting the probability that somebody will experience financial delinquency in the next two years.\n",
    "\n",
    "### Dataset description\n",
    "The dataset consists of 150000 records and 11 features. Below are the 11 features and their descriptions.\n",
    "\n",
    "|Feature|Description|\n",
    "|-----|-----|\n",
    "|SeriousDlqin2yrs|Person experienced 90 days past due delinquency or worse|\n",
    "|RevolvingUtilizationOfUnsecuredLines| Total balance on credit cards and personal lines of credit|\n",
    "|age| Age of borrower in years|\n",
    "|NumberOfTime30-59DaysPastDueNotWorse| Number of times borrower has been 30-59 days past due but no worse in the last 2 years|\n",
    "|DebtRatio| Monthly debt payments, alimony,living costs divided by monthy gross income|\n",
    "|MonthlyIncome|Monthly Income|\n",
    "|NumberOfOpenCreditLinesAndLoans| Number of Open loans (installment like car loan or mortgage) and Lines of credit|\n",
    "|NumberOfTimes90DaysLate|Number of times borrower has been 90 days or more past due|\n",
    "|NumberRealEstateLoansOrLines| Number of mortgage and real estate loans including home equity lines of credit|\n",
    "|NumberOfTime60-89DaysPastDueNotWorse| Number of times borrower has been 60-89 days past due but no worse in the last 2 years|\n",
    "|NumberOfDependents|Number of dependents in family excluding themselves|"
   ]
  },
  {
   "cell_type": "code",
   "execution_count": 115,
   "metadata": {},
   "outputs": [],
   "source": [
    "import matplotlib.pyplot as plt\n",
    "import numpy as np\n",
    "import pandas as pd\n",
    "import seaborn as sns\n",
    "import warnings\n",
    "from imblearn.over_sampling import SMOTE\n",
    "from imblearn.pipeline import make_pipeline\n",
    "from pylab import rcParams\n",
    "from sklearn.linear_model import LogisticRegression\n",
    "from sklearn.tree import DecisionTreeClassifier\n",
    "from sklearn.metrics import accuracy_score\n",
    "from sklearn.metrics import precision_score, recall_score, confusion_matrix,classification_report, cohen_kappa_score\n",
    "from sklearn.metrics import f1_score, roc_auc_score, roc_curve\n",
    "from sklearn.model_selection import train_test_split\n",
    "from sklearn.model_selection import GridSearchCV"
   ]
  },
  {
   "cell_type": "markdown",
   "metadata": {},
   "source": [
    "### Task 1 :Load the data and get an overview of the data using `.describe()` and `.info()` method"
   ]
  },
  {
   "cell_type": "code",
   "execution_count": 107,
   "metadata": {},
   "outputs": [
    {
     "data": {
      "text/plain": [
       "(150000, 11)"
      ]
     },
     "execution_count": 107,
     "metadata": {},
     "output_type": "execute_result"
    },
    {
     "data": {
      "text/html": [
       "<div>\n",
       "<style scoped>\n",
       "    .dataframe tbody tr th:only-of-type {\n",
       "        vertical-align: middle;\n",
       "    }\n",
       "\n",
       "    .dataframe tbody tr th {\n",
       "        vertical-align: top;\n",
       "    }\n",
       "\n",
       "    .dataframe thead th {\n",
       "        text-align: right;\n",
       "    }\n",
       "</style>\n",
       "<table border=\"1\" class=\"dataframe\">\n",
       "  <thead>\n",
       "    <tr style=\"text-align: right;\">\n",
       "      <th></th>\n",
       "      <th>SeriousDlqin2yrs</th>\n",
       "      <th>RevolvingUtilizationOfUnsecuredLines</th>\n",
       "      <th>age</th>\n",
       "      <th>NumberOfTime30-59DaysPastDueNotWorse</th>\n",
       "      <th>DebtRatio</th>\n",
       "      <th>MonthlyIncome</th>\n",
       "      <th>NumberOfOpenCreditLinesAndLoans</th>\n",
       "      <th>NumberOfTimes90DaysLate</th>\n",
       "      <th>NumberRealEstateLoansOrLines</th>\n",
       "      <th>NumberOfTime60-89DaysPastDueNotWorse</th>\n",
       "      <th>NumberOfDependents</th>\n",
       "    </tr>\n",
       "  </thead>\n",
       "  <tbody>\n",
       "    <tr>\n",
       "      <th>1</th>\n",
       "      <td>1</td>\n",
       "      <td>0.7661</td>\n",
       "      <td>45</td>\n",
       "      <td>2</td>\n",
       "      <td>0.8030</td>\n",
       "      <td>9120.0000</td>\n",
       "      <td>13</td>\n",
       "      <td>0</td>\n",
       "      <td>6</td>\n",
       "      <td>0</td>\n",
       "      <td>2.0000</td>\n",
       "    </tr>\n",
       "    <tr>\n",
       "      <th>2</th>\n",
       "      <td>0</td>\n",
       "      <td>0.9572</td>\n",
       "      <td>40</td>\n",
       "      <td>0</td>\n",
       "      <td>0.1219</td>\n",
       "      <td>2600.0000</td>\n",
       "      <td>4</td>\n",
       "      <td>0</td>\n",
       "      <td>0</td>\n",
       "      <td>0</td>\n",
       "      <td>1.0000</td>\n",
       "    </tr>\n",
       "    <tr>\n",
       "      <th>3</th>\n",
       "      <td>0</td>\n",
       "      <td>0.6582</td>\n",
       "      <td>38</td>\n",
       "      <td>1</td>\n",
       "      <td>0.0851</td>\n",
       "      <td>3042.0000</td>\n",
       "      <td>2</td>\n",
       "      <td>1</td>\n",
       "      <td>0</td>\n",
       "      <td>0</td>\n",
       "      <td>0.0000</td>\n",
       "    </tr>\n",
       "    <tr>\n",
       "      <th>4</th>\n",
       "      <td>0</td>\n",
       "      <td>0.2338</td>\n",
       "      <td>30</td>\n",
       "      <td>0</td>\n",
       "      <td>0.0360</td>\n",
       "      <td>3300.0000</td>\n",
       "      <td>5</td>\n",
       "      <td>0</td>\n",
       "      <td>0</td>\n",
       "      <td>0</td>\n",
       "      <td>0.0000</td>\n",
       "    </tr>\n",
       "    <tr>\n",
       "      <th>5</th>\n",
       "      <td>0</td>\n",
       "      <td>0.9072</td>\n",
       "      <td>49</td>\n",
       "      <td>1</td>\n",
       "      <td>0.0249</td>\n",
       "      <td>63588.0000</td>\n",
       "      <td>7</td>\n",
       "      <td>0</td>\n",
       "      <td>1</td>\n",
       "      <td>0</td>\n",
       "      <td>0.0000</td>\n",
       "    </tr>\n",
       "  </tbody>\n",
       "</table>\n",
       "</div>"
      ],
      "text/plain": [
       "   SeriousDlqin2yrs  RevolvingUtilizationOfUnsecuredLines  age  \\\n",
       "1  1                0.7661                                 45    \n",
       "2  0                0.9572                                 40    \n",
       "3  0                0.6582                                 38    \n",
       "4  0                0.2338                                 30    \n",
       "5  0                0.9072                                 49    \n",
       "\n",
       "   NumberOfTime30-59DaysPastDueNotWorse  DebtRatio  MonthlyIncome  \\\n",
       "1  2                                    0.8030     9120.0000        \n",
       "2  0                                    0.1219     2600.0000        \n",
       "3  1                                    0.0851     3042.0000        \n",
       "4  0                                    0.0360     3300.0000        \n",
       "5  1                                    0.0249     63588.0000       \n",
       "\n",
       "   NumberOfOpenCreditLinesAndLoans  NumberOfTimes90DaysLate  \\\n",
       "1  13                               0                         \n",
       "2  4                                0                         \n",
       "3  2                                1                         \n",
       "4  5                                0                         \n",
       "5  7                                0                         \n",
       "\n",
       "   NumberRealEstateLoansOrLines  NumberOfTime60-89DaysPastDueNotWorse  \\\n",
       "1  6                             0                                      \n",
       "2  0                             0                                      \n",
       "3  0                             0                                      \n",
       "4  0                             0                                      \n",
       "5  1                             0                                      \n",
       "\n",
       "   NumberOfDependents  \n",
       "1 2.0000               \n",
       "2 1.0000               \n",
       "3 0.0000               \n",
       "4 0.0000               \n",
       "5 0.0000               "
      ]
     },
     "execution_count": 107,
     "metadata": {},
     "output_type": "execute_result"
    }
   ],
   "source": [
    "df = pd.read_csv('../data/fin_dataset.csv',index_col=0)\n",
    "df.shape\n",
    "df.head()"
   ]
  },
  {
   "cell_type": "code",
   "execution_count": null,
   "metadata": {},
   "outputs": [],
   "source": [
    "# To display float with 2 decimal, avoid scientific printing\n",
    "# pd.options.display.float_format = '{:.6f}'.format"
   ]
  },
  {
   "cell_type": "code",
   "execution_count": 52,
   "metadata": {
    "scrolled": true
   },
   "outputs": [
    {
     "data": {
      "text/html": [
       "<div>\n",
       "<style scoped>\n",
       "    .dataframe tbody tr th:only-of-type {\n",
       "        vertical-align: middle;\n",
       "    }\n",
       "\n",
       "    .dataframe tbody tr th {\n",
       "        vertical-align: top;\n",
       "    }\n",
       "\n",
       "    .dataframe thead th {\n",
       "        text-align: right;\n",
       "    }\n",
       "</style>\n",
       "<table border=\"1\" class=\"dataframe\">\n",
       "  <thead>\n",
       "    <tr style=\"text-align: right;\">\n",
       "      <th></th>\n",
       "      <th>SeriousDlqin2yrs</th>\n",
       "      <th>RevolvingUtilizationOfUnsecuredLines</th>\n",
       "      <th>age</th>\n",
       "      <th>NumberOfTime30-59DaysPastDueNotWorse</th>\n",
       "      <th>DebtRatio</th>\n",
       "      <th>MonthlyIncome</th>\n",
       "      <th>NumberOfOpenCreditLinesAndLoans</th>\n",
       "      <th>NumberOfTimes90DaysLate</th>\n",
       "      <th>NumberRealEstateLoansOrLines</th>\n",
       "      <th>NumberOfTime60-89DaysPastDueNotWorse</th>\n",
       "      <th>NumberOfDependents</th>\n",
       "    </tr>\n",
       "  </thead>\n",
       "  <tbody>\n",
       "    <tr>\n",
       "      <th>count</th>\n",
       "      <td>150000.000000</td>\n",
       "      <td>150000.000000</td>\n",
       "      <td>150000.000000</td>\n",
       "      <td>150000.000000</td>\n",
       "      <td>150000.000000</td>\n",
       "      <td>120269.000000</td>\n",
       "      <td>150000.000000</td>\n",
       "      <td>150000.000000</td>\n",
       "      <td>150000.000000</td>\n",
       "      <td>150000.000000</td>\n",
       "      <td>146076.000000</td>\n",
       "    </tr>\n",
       "    <tr>\n",
       "      <th>mean</th>\n",
       "      <td>0.066840</td>\n",
       "      <td>6.048438</td>\n",
       "      <td>52.295207</td>\n",
       "      <td>0.421033</td>\n",
       "      <td>353.005076</td>\n",
       "      <td>6670.221237</td>\n",
       "      <td>8.452760</td>\n",
       "      <td>0.265973</td>\n",
       "      <td>1.018240</td>\n",
       "      <td>0.240387</td>\n",
       "      <td>0.757222</td>\n",
       "    </tr>\n",
       "    <tr>\n",
       "      <th>std</th>\n",
       "      <td>0.249746</td>\n",
       "      <td>249.755371</td>\n",
       "      <td>14.771866</td>\n",
       "      <td>4.192781</td>\n",
       "      <td>2037.818523</td>\n",
       "      <td>14384.674215</td>\n",
       "      <td>5.145951</td>\n",
       "      <td>4.169304</td>\n",
       "      <td>1.129771</td>\n",
       "      <td>4.155179</td>\n",
       "      <td>1.115086</td>\n",
       "    </tr>\n",
       "    <tr>\n",
       "      <th>min</th>\n",
       "      <td>0.000000</td>\n",
       "      <td>0.000000</td>\n",
       "      <td>0.000000</td>\n",
       "      <td>0.000000</td>\n",
       "      <td>0.000000</td>\n",
       "      <td>0.000000</td>\n",
       "      <td>0.000000</td>\n",
       "      <td>0.000000</td>\n",
       "      <td>0.000000</td>\n",
       "      <td>0.000000</td>\n",
       "      <td>0.000000</td>\n",
       "    </tr>\n",
       "    <tr>\n",
       "      <th>10%</th>\n",
       "      <td>0.000000</td>\n",
       "      <td>0.002969</td>\n",
       "      <td>33.000000</td>\n",
       "      <td>0.000000</td>\n",
       "      <td>0.030874</td>\n",
       "      <td>2005.000000</td>\n",
       "      <td>3.000000</td>\n",
       "      <td>0.000000</td>\n",
       "      <td>0.000000</td>\n",
       "      <td>0.000000</td>\n",
       "      <td>0.000000</td>\n",
       "    </tr>\n",
       "    <tr>\n",
       "      <th>25%</th>\n",
       "      <td>0.000000</td>\n",
       "      <td>0.029867</td>\n",
       "      <td>41.000000</td>\n",
       "      <td>0.000000</td>\n",
       "      <td>0.175074</td>\n",
       "      <td>3400.000000</td>\n",
       "      <td>5.000000</td>\n",
       "      <td>0.000000</td>\n",
       "      <td>0.000000</td>\n",
       "      <td>0.000000</td>\n",
       "      <td>0.000000</td>\n",
       "    </tr>\n",
       "    <tr>\n",
       "      <th>50%</th>\n",
       "      <td>0.000000</td>\n",
       "      <td>0.154181</td>\n",
       "      <td>52.000000</td>\n",
       "      <td>0.000000</td>\n",
       "      <td>0.366508</td>\n",
       "      <td>5400.000000</td>\n",
       "      <td>8.000000</td>\n",
       "      <td>0.000000</td>\n",
       "      <td>1.000000</td>\n",
       "      <td>0.000000</td>\n",
       "      <td>0.000000</td>\n",
       "    </tr>\n",
       "    <tr>\n",
       "      <th>75%</th>\n",
       "      <td>0.000000</td>\n",
       "      <td>0.559046</td>\n",
       "      <td>63.000000</td>\n",
       "      <td>0.000000</td>\n",
       "      <td>0.868254</td>\n",
       "      <td>8249.000000</td>\n",
       "      <td>11.000000</td>\n",
       "      <td>0.000000</td>\n",
       "      <td>2.000000</td>\n",
       "      <td>0.000000</td>\n",
       "      <td>1.000000</td>\n",
       "    </tr>\n",
       "    <tr>\n",
       "      <th>90%</th>\n",
       "      <td>0.000000</td>\n",
       "      <td>0.981278</td>\n",
       "      <td>72.000000</td>\n",
       "      <td>1.000000</td>\n",
       "      <td>1267.000000</td>\n",
       "      <td>11666.000000</td>\n",
       "      <td>15.000000</td>\n",
       "      <td>0.000000</td>\n",
       "      <td>2.000000</td>\n",
       "      <td>0.000000</td>\n",
       "      <td>2.000000</td>\n",
       "    </tr>\n",
       "    <tr>\n",
       "      <th>95%</th>\n",
       "      <td>1.000000</td>\n",
       "      <td>1.000000</td>\n",
       "      <td>78.000000</td>\n",
       "      <td>2.000000</td>\n",
       "      <td>2449.000000</td>\n",
       "      <td>14587.600000</td>\n",
       "      <td>18.000000</td>\n",
       "      <td>1.000000</td>\n",
       "      <td>3.000000</td>\n",
       "      <td>1.000000</td>\n",
       "      <td>3.000000</td>\n",
       "    </tr>\n",
       "    <tr>\n",
       "      <th>max</th>\n",
       "      <td>1.000000</td>\n",
       "      <td>50708.000000</td>\n",
       "      <td>109.000000</td>\n",
       "      <td>98.000000</td>\n",
       "      <td>329664.000000</td>\n",
       "      <td>3008750.000000</td>\n",
       "      <td>58.000000</td>\n",
       "      <td>98.000000</td>\n",
       "      <td>54.000000</td>\n",
       "      <td>98.000000</td>\n",
       "      <td>20.000000</td>\n",
       "    </tr>\n",
       "  </tbody>\n",
       "</table>\n",
       "</div>"
      ],
      "text/plain": [
       "       SeriousDlqin2yrs  RevolvingUtilizationOfUnsecuredLines           age  \\\n",
       "count 150000.000000     150000.000000                         150000.000000   \n",
       "mean  0.066840          6.048438                              52.295207       \n",
       "std   0.249746          249.755371                            14.771866       \n",
       "min   0.000000          0.000000                              0.000000        \n",
       "10%   0.000000          0.002969                              33.000000       \n",
       "25%   0.000000          0.029867                              41.000000       \n",
       "50%   0.000000          0.154181                              52.000000       \n",
       "75%   0.000000          0.559046                              63.000000       \n",
       "90%   0.000000          0.981278                              72.000000       \n",
       "95%   1.000000          1.000000                              78.000000       \n",
       "max   1.000000          50708.000000                          109.000000      \n",
       "\n",
       "       NumberOfTime30-59DaysPastDueNotWorse     DebtRatio  MonthlyIncome  \\\n",
       "count 150000.000000                         150000.000000 120269.000000    \n",
       "mean  0.421033                              353.005076    6670.221237      \n",
       "std   4.192781                              2037.818523   14384.674215     \n",
       "min   0.000000                              0.000000      0.000000         \n",
       "10%   0.000000                              0.030874      2005.000000      \n",
       "25%   0.000000                              0.175074      3400.000000      \n",
       "50%   0.000000                              0.366508      5400.000000      \n",
       "75%   0.000000                              0.868254      8249.000000      \n",
       "90%   1.000000                              1267.000000   11666.000000     \n",
       "95%   2.000000                              2449.000000   14587.600000     \n",
       "max   98.000000                             329664.000000 3008750.000000   \n",
       "\n",
       "       NumberOfOpenCreditLinesAndLoans  NumberOfTimes90DaysLate  \\\n",
       "count 150000.000000                    150000.000000              \n",
       "mean  8.452760                         0.265973                   \n",
       "std   5.145951                         4.169304                   \n",
       "min   0.000000                         0.000000                   \n",
       "10%   3.000000                         0.000000                   \n",
       "25%   5.000000                         0.000000                   \n",
       "50%   8.000000                         0.000000                   \n",
       "75%   11.000000                        0.000000                   \n",
       "90%   15.000000                        0.000000                   \n",
       "95%   18.000000                        1.000000                   \n",
       "max   58.000000                        98.000000                  \n",
       "\n",
       "       NumberRealEstateLoansOrLines  NumberOfTime60-89DaysPastDueNotWorse  \\\n",
       "count 150000.000000                 150000.000000                           \n",
       "mean  1.018240                      0.240387                                \n",
       "std   1.129771                      4.155179                                \n",
       "min   0.000000                      0.000000                                \n",
       "10%   0.000000                      0.000000                                \n",
       "25%   0.000000                      0.000000                                \n",
       "50%   1.000000                      0.000000                                \n",
       "75%   2.000000                      0.000000                                \n",
       "90%   2.000000                      0.000000                                \n",
       "95%   3.000000                      1.000000                                \n",
       "max   54.000000                     98.000000                               \n",
       "\n",
       "       NumberOfDependents  \n",
       "count 146076.000000        \n",
       "mean  0.757222             \n",
       "std   1.115086             \n",
       "min   0.000000             \n",
       "10%   0.000000             \n",
       "25%   0.000000             \n",
       "50%   0.000000             \n",
       "75%   1.000000             \n",
       "90%   2.000000             \n",
       "95%   3.000000             \n",
       "max   20.000000            "
      ]
     },
     "execution_count": 52,
     "metadata": {},
     "output_type": "execute_result"
    }
   ],
   "source": [
    "df.describe([0.1, 0.25, 0.5, 0.75, 0.9, 0.95])"
   ]
  },
  {
   "cell_type": "code",
   "execution_count": 53,
   "metadata": {
    "scrolled": true
   },
   "outputs": [
    {
     "name": "stdout",
     "output_type": "stream",
     "text": [
      "<class 'pandas.core.frame.DataFrame'>\n",
      "Int64Index: 150000 entries, 1 to 150000\n",
      "Data columns (total 11 columns):\n",
      " #   Column                                Non-Null Count   Dtype  \n",
      "---  ------                                --------------   -----  \n",
      " 0   SeriousDlqin2yrs                      150000 non-null  int64  \n",
      " 1   RevolvingUtilizationOfUnsecuredLines  150000 non-null  float64\n",
      " 2   age                                   150000 non-null  int64  \n",
      " 3   NumberOfTime30-59DaysPastDueNotWorse  150000 non-null  int64  \n",
      " 4   DebtRatio                             150000 non-null  float64\n",
      " 5   MonthlyIncome                         120269 non-null  float64\n",
      " 6   NumberOfOpenCreditLinesAndLoans       150000 non-null  int64  \n",
      " 7   NumberOfTimes90DaysLate               150000 non-null  int64  \n",
      " 8   NumberRealEstateLoansOrLines          150000 non-null  int64  \n",
      " 9   NumberOfTime60-89DaysPastDueNotWorse  150000 non-null  int64  \n",
      " 10  NumberOfDependents                    146076 non-null  float64\n",
      "dtypes: float64(4), int64(7)\n",
      "memory usage: 13.7 MB\n"
     ]
    }
   ],
   "source": [
    "df.info()"
   ]
  },
  {
   "cell_type": "markdown",
   "metadata": {
    "slideshow": {
     "slide_type": "slide"
    }
   },
   "source": [
    "<img src=\"../images/Recap.png\" alt=\"Recap\" style=\"width: 100px;float:left; margin-right:15px\"/>\n",
    "\n",
    "<br />\n",
    "\n",
    "# In-session Recap Time\n",
    "***\n",
    "* Imbalanced Data\n",
    "* Resampling Techniques\n",
    "* Undersampling & Oversampling\n",
    "* Algorithmic Approach\n",
    "* Dealing with smaller data sets\n",
    "* Which Algorithm to use"
   ]
  },
  {
   "cell_type": "markdown",
   "metadata": {
    "slideshow": {
     "slide_type": "slide"
    }
   },
   "source": [
    "# Thank You"
   ]
  },
  {
   "cell_type": "markdown",
   "metadata": {},
   "source": [
    "**There are null values in the variables `NumberOfDependents` and `MonthlyIncome`.**"
   ]
  },
  {
   "cell_type": "markdown",
   "metadata": {},
   "source": [
    "### Task 2 : Check for the skewness in the variables in `NumberOfDependents`  and `MonthlyIncome` by plotting a histogram."
   ]
  },
  {
   "cell_type": "code",
   "execution_count": 56,
   "metadata": {},
   "outputs": [
    {
     "data": {
      "image/png": "[encoded data removed]",
      "text/plain": [
       "<Figure size 432x288 with 1 Axes>"
      ]
     },
     "metadata": {},
     "output_type": "display_data"
    }
   ],
   "source": [
    "df['NumberOfDependents'].plot(kind='hist');"
   ]
  },
  {
   "cell_type": "code",
   "execution_count": 61,
   "metadata": {
    "collapsed": true
   },
   "outputs": [
    {
     "data": {
      "text/plain": [
       "0.000000    0.594909\n",
       "1.000000    0.180153\n",
       "2.000000    0.133643\n",
       "3.000000    0.064918\n",
       "4.000000    0.019593\n",
       "5.000000    0.005107\n",
       "6.000000    0.001082\n",
       "7.000000    0.000349\n",
       "8.000000    0.000164\n",
       "9.000000    0.000034\n",
       "10.000000   0.000034\n",
       "13.000000   0.000007\n",
       "20.000000   0.000007\n",
       "Name: NumberOfDependents, dtype: float64"
      ]
     },
     "execution_count": 61,
     "metadata": {},
     "output_type": "execute_result"
    }
   ],
   "source": [
    "df['NumberOfDependents'].value_counts(normalize = True)\n",
    "\n",
    "# ~60% of your data is people without dependents\n",
    "# ~31% is with either 1 or 2 dependents\n",
    "# ~10% > 3"
   ]
  },
  {
   "cell_type": "code",
   "execution_count": 70,
   "metadata": {},
   "outputs": [
    {
     "data": {
      "image/png": "[encoded data removed]",
      "text/plain": [
       "<Figure size 432x288 with 1 Axes>"
      ]
     },
     "metadata": {},
     "output_type": "display_data"
    }
   ],
   "source": [
    "df['MonthlyIncome'].plot(kind='hist');"
   ]
  },
  {
   "cell_type": "code",
   "execution_count": 75,
   "metadata": {},
   "outputs": [
    {
     "data": {
      "image/png": "[encoded data removed]",
      "text/plain": [
       "<Figure size 432x288 with 1 Axes>"
      ]
     },
     "metadata": {},
     "output_type": "display_data"
    }
   ],
   "source": [
    "sns.violinplot(df['MonthlyIncome']);"
   ]
  },
  {
   "cell_type": "code",
   "execution_count": null,
   "metadata": {},
   "outputs": [],
   "source": [
    "map(np.round, df['MonthlyIncome'])"
   ]
  },
  {
   "cell_type": "code",
   "execution_count": 80,
   "metadata": {},
   "outputs": [
    {
     "data": {
      "text/html": [
       "<div>\n",
       "<style scoped>\n",
       "    .dataframe tbody tr th:only-of-type {\n",
       "        vertical-align: middle;\n",
       "    }\n",
       "\n",
       "    .dataframe tbody tr th {\n",
       "        vertical-align: top;\n",
       "    }\n",
       "\n",
       "    .dataframe thead th {\n",
       "        text-align: right;\n",
       "    }\n",
       "</style>\n",
       "<table border=\"1\" class=\"dataframe\">\n",
       "  <thead>\n",
       "    <tr style=\"text-align: right;\">\n",
       "      <th></th>\n",
       "      <th>0.0000</th>\n",
       "      <th>0.0050</th>\n",
       "      <th>0.0100</th>\n",
       "      <th>0.0150</th>\n",
       "      <th>0.0200</th>\n",
       "      <th>0.0250</th>\n",
       "      <th>0.0300</th>\n",
       "      <th>0.0350</th>\n",
       "      <th>0.0400</th>\n",
       "      <th>0.0450</th>\n",
       "      <th>0.0500</th>\n",
       "      <th>0.0550</th>\n",
       "      <th>0.0600</th>\n",
       "      <th>0.0650</th>\n",
       "      <th>0.0700</th>\n",
       "      <th>0.0750</th>\n",
       "      <th>0.0800</th>\n",
       "      <th>0.0850</th>\n",
       "      <th>0.0900</th>\n",
       "      <th>0.0950</th>\n",
       "      <th>0.1000</th>\n",
       "      <th>0.1050</th>\n",
       "      <th>0.1100</th>\n",
       "      <th>0.1150</th>\n",
       "      <th>0.1200</th>\n",
       "      <th>0.1250</th>\n",
       "      <th>0.1300</th>\n",
       "      <th>0.1350</th>\n",
       "      <th>0.1400</th>\n",
       "      <th>0.1450</th>\n",
       "      <th>0.1500</th>\n",
       "      <th>0.1550</th>\n",
       "      <th>0.1600</th>\n",
       "      <th>0.1650</th>\n",
       "      <th>0.1700</th>\n",
       "      <th>0.1750</th>\n",
       "      <th>0.1800</th>\n",
       "      <th>0.1850</th>\n",
       "      <th>0.1900</th>\n",
       "      <th>0.1950</th>\n",
       "      <th>0.2000</th>\n",
       "      <th>0.2050</th>\n",
       "      <th>0.2100</th>\n",
       "      <th>0.2150</th>\n",
       "      <th>0.2200</th>\n",
       "      <th>0.2250</th>\n",
       "      <th>0.2300</th>\n",
       "      <th>0.2350</th>\n",
       "      <th>0.2400</th>\n",
       "      <th>0.2450</th>\n",
       "      <th>0.2500</th>\n",
       "      <th>0.2550</th>\n",
       "      <th>0.2600</th>\n",
       "      <th>0.2650</th>\n",
       "      <th>0.2700</th>\n",
       "      <th>0.2750</th>\n",
       "      <th>0.2800</th>\n",
       "      <th>0.2850</th>\n",
       "      <th>0.2900</th>\n",
       "      <th>0.2950</th>\n",
       "      <th>0.3000</th>\n",
       "      <th>0.3050</th>\n",
       "      <th>0.3100</th>\n",
       "      <th>0.3150</th>\n",
       "      <th>0.3200</th>\n",
       "      <th>0.3250</th>\n",
       "      <th>0.3300</th>\n",
       "      <th>0.3350</th>\n",
       "      <th>0.3400</th>\n",
       "      <th>0.3450</th>\n",
       "      <th>0.3500</th>\n",
       "      <th>0.3550</th>\n",
       "      <th>0.3600</th>\n",
       "      <th>0.3650</th>\n",
       "      <th>0.3700</th>\n",
       "      <th>0.3750</th>\n",
       "      <th>0.3800</th>\n",
       "      <th>0.3850</th>\n",
       "      <th>0.3900</th>\n",
       "      <th>0.3950</th>\n",
       "      <th>0.4000</th>\n",
       "      <th>0.4050</th>\n",
       "      <th>0.4100</th>\n",
       "      <th>0.4150</th>\n",
       "      <th>0.4200</th>\n",
       "      <th>0.4250</th>\n",
       "      <th>0.4300</th>\n",
       "      <th>0.4350</th>\n",
       "      <th>0.4400</th>\n",
       "      <th>0.4450</th>\n",
       "      <th>0.4500</th>\n",
       "      <th>0.4550</th>\n",
       "      <th>0.4600</th>\n",
       "      <th>0.4650</th>\n",
       "      <th>0.4700</th>\n",
       "      <th>0.4750</th>\n",
       "      <th>0.4800</th>\n",
       "      <th>0.4850</th>\n",
       "      <th>0.4900</th>\n",
       "      <th>0.4950</th>\n",
       "      <th>0.5000</th>\n",
       "      <th>0.5050</th>\n",
       "      <th>0.5100</th>\n",
       "      <th>0.5150</th>\n",
       "      <th>0.5200</th>\n",
       "      <th>0.5250</th>\n",
       "      <th>0.5300</th>\n",
       "      <th>0.5350</th>\n",
       "      <th>0.5400</th>\n",
       "      <th>0.5450</th>\n",
       "      <th>0.5500</th>\n",
       "      <th>0.5550</th>\n",
       "      <th>0.5600</th>\n",
       "      <th>0.5650</th>\n",
       "      <th>0.5700</th>\n",
       "      <th>0.5750</th>\n",
       "      <th>0.5800</th>\n",
       "      <th>0.5850</th>\n",
       "      <th>0.5900</th>\n",
       "      <th>0.5950</th>\n",
       "      <th>0.6000</th>\n",
       "      <th>0.6050</th>\n",
       "      <th>0.6100</th>\n",
       "      <th>0.6150</th>\n",
       "      <th>0.6200</th>\n",
       "      <th>0.6250</th>\n",
       "      <th>0.6300</th>\n",
       "      <th>0.6350</th>\n",
       "      <th>0.6400</th>\n",
       "      <th>0.6450</th>\n",
       "      <th>0.6500</th>\n",
       "      <th>0.6550</th>\n",
       "      <th>0.6600</th>\n",
       "      <th>0.6650</th>\n",
       "      <th>0.6700</th>\n",
       "      <th>0.6750</th>\n",
       "      <th>0.6800</th>\n",
       "      <th>0.6850</th>\n",
       "      <th>0.6900</th>\n",
       "      <th>0.6950</th>\n",
       "      <th>0.7000</th>\n",
       "      <th>0.7050</th>\n",
       "      <th>0.7100</th>\n",
       "      <th>0.7150</th>\n",
       "      <th>0.7200</th>\n",
       "      <th>0.7250</th>\n",
       "      <th>0.7300</th>\n",
       "      <th>0.7350</th>\n",
       "      <th>0.7400</th>\n",
       "      <th>0.7450</th>\n",
       "      <th>0.7500</th>\n",
       "      <th>0.7550</th>\n",
       "      <th>0.7600</th>\n",
       "      <th>0.7650</th>\n",
       "      <th>0.7700</th>\n",
       "      <th>0.7750</th>\n",
       "      <th>0.7800</th>\n",
       "      <th>0.7850</th>\n",
       "      <th>0.7900</th>\n",
       "      <th>0.7950</th>\n",
       "      <th>0.8000</th>\n",
       "      <th>0.8050</th>\n",
       "      <th>0.8100</th>\n",
       "      <th>0.8150</th>\n",
       "      <th>0.8200</th>\n",
       "      <th>0.8250</th>\n",
       "      <th>0.8300</th>\n",
       "      <th>0.8350</th>\n",
       "      <th>0.8400</th>\n",
       "      <th>0.8450</th>\n",
       "      <th>0.8500</th>\n",
       "      <th>0.8550</th>\n",
       "      <th>0.8600</th>\n",
       "      <th>0.8650</th>\n",
       "      <th>0.8700</th>\n",
       "      <th>0.8750</th>\n",
       "      <th>0.8800</th>\n",
       "      <th>0.8850</th>\n",
       "      <th>0.8900</th>\n",
       "      <th>0.8950</th>\n",
       "      <th>0.9000</th>\n",
       "      <th>0.9050</th>\n",
       "      <th>0.9100</th>\n",
       "      <th>0.9150</th>\n",
       "      <th>0.9200</th>\n",
       "      <th>0.9250</th>\n",
       "      <th>0.9300</th>\n",
       "      <th>0.9350</th>\n",
       "      <th>0.9400</th>\n",
       "      <th>0.9450</th>\n",
       "      <th>0.9500</th>\n",
       "      <th>0.9550</th>\n",
       "      <th>0.9600</th>\n",
       "      <th>0.9650</th>\n",
       "      <th>0.9700</th>\n",
       "      <th>0.9750</th>\n",
       "      <th>0.9800</th>\n",
       "      <th>0.9850</th>\n",
       "      <th>0.9900</th>\n",
       "      <th>0.9950</th>\n",
       "      <th>1.0000</th>\n",
       "    </tr>\n",
       "  </thead>\n",
       "  <tbody>\n",
       "    <tr>\n",
       "      <th>MonthlyIncome</th>\n",
       "      <td>0.0000</td>\n",
       "      <td>0.0000</td>\n",
       "      <td>0.0000</td>\n",
       "      <td>1.0000</td>\n",
       "      <td>250.0000</td>\n",
       "      <td>600.0000</td>\n",
       "      <td>800.0000</td>\n",
       "      <td>902.3800</td>\n",
       "      <td>1012.1600</td>\n",
       "      <td>1200.0000</td>\n",
       "      <td>1300.0000</td>\n",
       "      <td>1400.0000</td>\n",
       "      <td>1500.0000</td>\n",
       "      <td>1560.4200</td>\n",
       "      <td>1640.0000</td>\n",
       "      <td>1710.0000</td>\n",
       "      <td>1800.0000</td>\n",
       "      <td>1896.7800</td>\n",
       "      <td>1981.0000</td>\n",
       "      <td>2000.0000</td>\n",
       "      <td>2005.0000</td>\n",
       "      <td>2098.0000</td>\n",
       "      <td>2166.0000</td>\n",
       "      <td>2200.0000</td>\n",
       "      <td>2277.0000</td>\n",
       "      <td>2329.5000</td>\n",
       "      <td>2400.0000</td>\n",
       "      <td>2440.0000</td>\n",
       "      <td>2500.0000</td>\n",
       "      <td>2500.0000</td>\n",
       "      <td>2500.0000</td>\n",
       "      <td>2582.0000</td>\n",
       "      <td>2605.8800</td>\n",
       "      <td>2679.0000</td>\n",
       "      <td>2724.5600</td>\n",
       "      <td>2800.0000</td>\n",
       "      <td>2826.0000</td>\n",
       "      <td>2900.0000</td>\n",
       "      <td>2923.0000</td>\n",
       "      <td>3000.0000</td>\n",
       "      <td>3000.0000</td>\n",
       "      <td>3000.0000</td>\n",
       "      <td>3027.0000</td>\n",
       "      <td>3098.0000</td>\n",
       "      <td>3144.0000</td>\n",
       "      <td>3200.0000</td>\n",
       "      <td>3218.0000</td>\n",
       "      <td>3291.9800</td>\n",
       "      <td>3329.0000</td>\n",
       "      <td>3344.0000</td>\n",
       "      <td>3400.0000</td>\n",
       "      <td>3447.0000</td>\n",
       "      <td>3500.0000</td>\n",
       "      <td>3500.0000</td>\n",
       "      <td>3506.3600</td>\n",
       "      <td>3583.0000</td>\n",
       "      <td>3600.0000</td>\n",
       "      <td>3666.0000</td>\n",
       "      <td>3711.7200</td>\n",
       "      <td>3750.0000</td>\n",
       "      <td>3800.0000</td>\n",
       "      <td>3833.0000</td>\n",
       "      <td>3900.0000</td>\n",
       "      <td>3950.0000</td>\n",
       "      <td>4000.0000</td>\n",
       "      <td>4000.0000</td>\n",
       "      <td>4000.0000</td>\n",
       "      <td>4000.0000</td>\n",
       "      <td>4065.0000</td>\n",
       "      <td>4100.0000</td>\n",
       "      <td>4166.0000</td>\n",
       "      <td>4167.0000</td>\n",
       "      <td>4200.0000</td>\n",
       "      <td>4250.0000</td>\n",
       "      <td>4300.0000</td>\n",
       "      <td>4339.5000</td>\n",
       "      <td>4400.0000</td>\n",
       "      <td>4450.0000</td>\n",
       "      <td>4500.0000</td>\n",
       "      <td>4500.0000</td>\n",
       "      <td>4544.2000</td>\n",
       "      <td>4583.0000</td>\n",
       "      <td>4620.0000</td>\n",
       "      <td>4687.0000</td>\n",
       "      <td>4736.5600</td>\n",
       "      <td>4800.0000</td>\n",
       "      <td>4832.0000</td>\n",
       "      <td>4900.0000</td>\n",
       "      <td>4965.0000</td>\n",
       "      <td>5000.0000</td>\n",
       "      <td>5000.0000</td>\n",
       "      <td>5000.0000</td>\n",
       "      <td>5000.0000</td>\n",
       "      <td>5008.6200</td>\n",
       "      <td>5091.0000</td>\n",
       "      <td>5146.0000</td>\n",
       "      <td>5200.0000</td>\n",
       "      <td>5235.0000</td>\n",
       "      <td>5299.0000</td>\n",
       "      <td>5335.0000</td>\n",
       "      <td>5400.0000</td>\n",
       "      <td>5416.0000</td>\n",
       "      <td>5493.6800</td>\n",
       "      <td>5500.0000</td>\n",
       "      <td>5542.0000</td>\n",
       "      <td>5600.0000</td>\n",
       "      <td>5666.0000</td>\n",
       "      <td>5710.0000</td>\n",
       "      <td>5796.0000</td>\n",
       "      <td>5833.0000</td>\n",
       "      <td>5855.0000</td>\n",
       "      <td>5925.0000</td>\n",
       "      <td>6000.0000</td>\n",
       "      <td>6000.0000</td>\n",
       "      <td>6000.0000</td>\n",
       "      <td>6016.0000</td>\n",
       "      <td>6100.0000</td>\n",
       "      <td>6166.0000</td>\n",
       "      <td>6218.0000</td>\n",
       "      <td>6250.0000</td>\n",
       "      <td>6300.0000</td>\n",
       "      <td>6400.0000</td>\n",
       "      <td>6459.0000</td>\n",
       "      <td>6500.0000</td>\n",
       "      <td>6537.0000</td>\n",
       "      <td>6600.0000</td>\n",
       "      <td>6666.0000</td>\n",
       "      <td>6700.0000</td>\n",
       "      <td>6783.0000</td>\n",
       "      <td>6833.0000</td>\n",
       "      <td>6916.0000</td>\n",
       "      <td>7000.0000</td>\n",
       "      <td>7000.0000</td>\n",
       "      <td>7042.2200</td>\n",
       "      <td>7099.0000</td>\n",
       "      <td>7176.0000</td>\n",
       "      <td>7250.0000</td>\n",
       "      <td>7333.0000</td>\n",
       "      <td>7415.0000</td>\n",
       "      <td>7500.0000</td>\n",
       "      <td>7500.0000</td>\n",
       "      <td>7568.0000</td>\n",
       "      <td>7664.0000</td>\n",
       "      <td>7742.0000</td>\n",
       "      <td>7820.0000</td>\n",
       "      <td>7916.0000</td>\n",
       "      <td>8000.0000</td>\n",
       "      <td>8000.0000</td>\n",
       "      <td>8050.0000</td>\n",
       "      <td>8151.0000</td>\n",
       "      <td>8249.0000</td>\n",
       "      <td>8333.0000</td>\n",
       "      <td>8350.0000</td>\n",
       "      <td>8465.0000</td>\n",
       "      <td>8500.0000</td>\n",
       "      <td>8620.0000</td>\n",
       "      <td>8750.0000</td>\n",
       "      <td>8833.0000</td>\n",
       "      <td>8943.7200</td>\n",
       "      <td>9000.0000</td>\n",
       "      <td>9083.0000</td>\n",
       "      <td>9167.0000</td>\n",
       "      <td>9300.0000</td>\n",
       "      <td>9431.4200</td>\n",
       "      <td>9532.0000</td>\n",
       "      <td>9666.0000</td>\n",
       "      <td>9800.0000</td>\n",
       "      <td>9976.7800</td>\n",
       "      <td>10000.0000</td>\n",
       "      <td>10000.0000</td>\n",
       "      <td>10100.0000</td>\n",
       "      <td>10300.0000</td>\n",
       "      <td>10417.0000</td>\n",
       "      <td>10500.0000</td>\n",
       "      <td>10510.0000</td>\n",
       "      <td>10748.0000</td>\n",
       "      <td>10891.0000</td>\n",
       "      <td>11000.0000</td>\n",
       "      <td>11224.0000</td>\n",
       "      <td>11416.8600</td>\n",
       "      <td>11666.0000</td>\n",
       "      <td>11908.0000</td>\n",
       "      <td>12000.0000</td>\n",
       "      <td>12267.0000</td>\n",
       "      <td>12500.0000</td>\n",
       "      <td>12713.8000</td>\n",
       "      <td>13000.0000</td>\n",
       "      <td>13333.0000</td>\n",
       "      <td>13716.0000</td>\n",
       "      <td>14100.0000</td>\n",
       "      <td>14587.6000</td>\n",
       "      <td>15000.0000</td>\n",
       "      <td>15636.2800</td>\n",
       "      <td>16250.0000</td>\n",
       "      <td>17000.0000</td>\n",
       "      <td>18000.0000</td>\n",
       "      <td>19600.0000</td>\n",
       "      <td>21250.0000</td>\n",
       "      <td>25000.0000</td>\n",
       "      <td>35000.0000</td>\n",
       "      <td>3008750.0000</td>\n",
       "    </tr>\n",
       "  </tbody>\n",
       "</table>\n",
       "</div>"
      ],
      "text/plain": [
       "               0.0000  0.0050  0.0100  0.0150   0.0200   0.0250   0.0300  \\\n",
       "MonthlyIncome 0.0000  0.0000  0.0000  1.0000  250.0000 600.0000 800.0000   \n",
       "\n",
       "                0.0350    0.0400    0.0450    0.0500    0.0550    0.0600  \\\n",
       "MonthlyIncome 902.3800 1012.1600 1200.0000 1300.0000 1400.0000 1500.0000   \n",
       "\n",
       "                 0.0650    0.0700    0.0750    0.0800    0.0850    0.0900  \\\n",
       "MonthlyIncome 1560.4200 1640.0000 1710.0000 1800.0000 1896.7800 1981.0000   \n",
       "\n",
       "                 0.0950    0.1000    0.1050    0.1100    0.1150    0.1200  \\\n",
       "MonthlyIncome 2000.0000 2005.0000 2098.0000 2166.0000 2200.0000 2277.0000   \n",
       "\n",
       "                 0.1250    0.1300    0.1350    0.1400    0.1450    0.1500  \\\n",
       "MonthlyIncome 2329.5000 2400.0000 2440.0000 2500.0000 2500.0000 2500.0000   \n",
       "\n",
       "                 0.1550    0.1600    0.1650    0.1700    0.1750    0.1800  \\\n",
       "MonthlyIncome 2582.0000 2605.8800 2679.0000 2724.5600 2800.0000 2826.0000   \n",
       "\n",
       "                 0.1850    0.1900    0.1950    0.2000    0.2050    0.2100  \\\n",
       "MonthlyIncome 2900.0000 2923.0000 3000.0000 3000.0000 3000.0000 3027.0000   \n",
       "\n",
       "                 0.2150    0.2200    0.2250    0.2300    0.2350    0.2400  \\\n",
       "MonthlyIncome 3098.0000 3144.0000 3200.0000 3218.0000 3291.9800 3329.0000   \n",
       "\n",
       "                 0.2450    0.2500    0.2550    0.2600    0.2650    0.2700  \\\n",
       "MonthlyIncome 3344.0000 3400.0000 3447.0000 3500.0000 3500.0000 3506.3600   \n",
       "\n",
       "                 0.2750    0.2800    0.2850    0.2900    0.2950    0.3000  \\\n",
       "MonthlyIncome 3583.0000 3600.0000 3666.0000 3711.7200 3750.0000 3800.0000   \n",
       "\n",
       "                 0.3050    0.3100    0.3150    0.3200    0.3250    0.3300  \\\n",
       "MonthlyIncome 3833.0000 3900.0000 3950.0000 4000.0000 4000.0000 4000.0000   \n",
       "\n",
       "                 0.3350    0.3400    0.3450    0.3500    0.3550    0.3600  \\\n",
       "MonthlyIncome 4000.0000 4065.0000 4100.0000 4166.0000 4167.0000 4200.0000   \n",
       "\n",
       "                 0.3650    0.3700    0.3750    0.3800    0.3850    0.3900  \\\n",
       "MonthlyIncome 4250.0000 4300.0000 4339.5000 4400.0000 4450.0000 4500.0000   \n",
       "\n",
       "                 0.3950    0.4000    0.4050    0.4100    0.4150    0.4200  \\\n",
       "MonthlyIncome 4500.0000 4544.2000 4583.0000 4620.0000 4687.0000 4736.5600   \n",
       "\n",
       "                 0.4250    0.4300    0.4350    0.4400    0.4450    0.4500  \\\n",
       "MonthlyIncome 4800.0000 4832.0000 4900.0000 4965.0000 5000.0000 5000.0000   \n",
       "\n",
       "                 0.4550    0.4600    0.4650    0.4700    0.4750    0.4800  \\\n",
       "MonthlyIncome 5000.0000 5000.0000 5008.6200 5091.0000 5146.0000 5200.0000   \n",
       "\n",
       "                 0.4850    0.4900    0.4950    0.5000    0.5050    0.5100  \\\n",
       "MonthlyIncome 5235.0000 5299.0000 5335.0000 5400.0000 5416.0000 5493.6800   \n",
       "\n",
       "                 0.5150    0.5200    0.5250    0.5300    0.5350    0.5400  \\\n",
       "MonthlyIncome 5500.0000 5542.0000 5600.0000 5666.0000 5710.0000 5796.0000   \n",
       "\n",
       "                 0.5450    0.5500    0.5550    0.5600    0.5650    0.5700  \\\n",
       "MonthlyIncome 5833.0000 5855.0000 5925.0000 6000.0000 6000.0000 6000.0000   \n",
       "\n",
       "                 0.5750    0.5800    0.5850    0.5900    0.5950    0.6000  \\\n",
       "MonthlyIncome 6016.0000 6100.0000 6166.0000 6218.0000 6250.0000 6300.0000   \n",
       "\n",
       "                 0.6050    0.6100    0.6150    0.6200    0.6250    0.6300  \\\n",
       "MonthlyIncome 6400.0000 6459.0000 6500.0000 6537.0000 6600.0000 6666.0000   \n",
       "\n",
       "                 0.6350    0.6400    0.6450    0.6500    0.6550    0.6600  \\\n",
       "MonthlyIncome 6700.0000 6783.0000 6833.0000 6916.0000 7000.0000 7000.0000   \n",
       "\n",
       "                 0.6650    0.6700    0.6750    0.6800    0.6850    0.6900  \\\n",
       "MonthlyIncome 7042.2200 7099.0000 7176.0000 7250.0000 7333.0000 7415.0000   \n",
       "\n",
       "                 0.6950    0.7000    0.7050    0.7100    0.7150    0.7200  \\\n",
       "MonthlyIncome 7500.0000 7500.0000 7568.0000 7664.0000 7742.0000 7820.0000   \n",
       "\n",
       "                 0.7250    0.7300    0.7350    0.7400    0.7450    0.7500  \\\n",
       "MonthlyIncome 7916.0000 8000.0000 8000.0000 8050.0000 8151.0000 8249.0000   \n",
       "\n",
       "                 0.7550    0.7600    0.7650    0.7700    0.7750    0.7800  \\\n",
       "MonthlyIncome 8333.0000 8350.0000 8465.0000 8500.0000 8620.0000 8750.0000   \n",
       "\n",
       "                 0.7850    0.7900    0.7950    0.8000    0.8050    0.8100  \\\n",
       "MonthlyIncome 8833.0000 8943.7200 9000.0000 9083.0000 9167.0000 9300.0000   \n",
       "\n",
       "                 0.8150    0.8200    0.8250    0.8300    0.8350     0.8400  \\\n",
       "MonthlyIncome 9431.4200 9532.0000 9666.0000 9800.0000 9976.7800 10000.0000   \n",
       "\n",
       "                  0.8450     0.8500     0.8550     0.8600     0.8650  \\\n",
       "MonthlyIncome 10000.0000 10100.0000 10300.0000 10417.0000 10500.0000   \n",
       "\n",
       "                  0.8700     0.8750     0.8800     0.8850     0.8900  \\\n",
       "MonthlyIncome 10510.0000 10748.0000 10891.0000 11000.0000 11224.0000   \n",
       "\n",
       "                  0.8950     0.9000     0.9050     0.9100     0.9150  \\\n",
       "MonthlyIncome 11416.8600 11666.0000 11908.0000 12000.0000 12267.0000   \n",
       "\n",
       "                  0.9200     0.9250     0.9300     0.9350     0.9400  \\\n",
       "MonthlyIncome 12500.0000 12713.8000 13000.0000 13333.0000 13716.0000   \n",
       "\n",
       "                  0.9450     0.9500     0.9550     0.9600     0.9650  \\\n",
       "MonthlyIncome 14100.0000 14587.6000 15000.0000 15636.2800 16250.0000   \n",
       "\n",
       "                  0.9700     0.9750     0.9800     0.9850     0.9900  \\\n",
       "MonthlyIncome 17000.0000 18000.0000 19600.0000 21250.0000 25000.0000   \n",
       "\n",
       "                  0.9950       1.0000  \n",
       "MonthlyIncome 35000.0000 3008750.0000  "
      ]
     },
     "execution_count": 80,
     "metadata": {},
     "output_type": "execute_result"
    }
   ],
   "source": [
    "#df['MonthlyIncome'].plot(kind='hist')\n",
    "#np.quantile(df['MonthlyIncome'], q = [0.1, 0.2, 0.3])\n",
    "\n",
    "seq = np.linspace(0,1,201)\n",
    "pd.DataFrame(df['MonthlyIncome'].quantile(seq)).T"
   ]
  },
  {
   "cell_type": "markdown",
   "metadata": {},
   "source": [
    "### Task 3 :There is skewness in the feature `NumberOfDependents`. So let's replace the null values in this feature with the median and let's do the same for the feature `MonthlyIncome`"
   ]
  },
  {
   "cell_type": "code",
   "execution_count": 108,
   "metadata": {},
   "outputs": [],
   "source": [
    "df['NumberOfDependents']  = df['NumberOfDependents'].fillna(df['NumberOfDependents'].median())\n",
    "df['MonthlyIncome'].fillna(df['MonthlyIncome'].median(),inplace=True)"
   ]
  },
  {
   "cell_type": "code",
   "execution_count": 89,
   "metadata": {},
   "outputs": [
    {
     "data": {
      "text/plain": [
       "(150000, 11)"
      ]
     },
     "execution_count": 89,
     "metadata": {},
     "output_type": "execute_result"
    }
   ],
   "source": [
    "df.shape"
   ]
  },
  {
   "cell_type": "markdown",
   "metadata": {},
   "source": [
    "### Task 4: Check for the distribution of the target variable using a `countplot()`"
   ]
  },
  {
   "cell_type": "code",
   "execution_count": 32,
   "metadata": {},
   "outputs": [
    {
     "name": "stdout",
     "output_type": "stream",
     "text": [
      "0    0.93316\n",
      "1    0.06684\n",
      "Name: SeriousDlqin2yrs, dtype: float64\n"
     ]
    },
    {
     "data": {
      "text/plain": [
       "<AxesSubplot:xlabel='SeriousDlqin2yrs', ylabel='count'>"
      ]
     },
     "execution_count": 32,
     "metadata": {},
     "output_type": "execute_result"
    },
    {
     "data": {
      "image/png": "[encoded data removed]",
      "text/plain": [
       "<Figure size 432x288 with 1 Axes>"
      ]
     },
     "metadata": {},
     "output_type": "display_data"
    }
   ],
   "source": [
    "print(df['SeriousDlqin2yrs'].value_counts()/df['SeriousDlqin2yrs'].value_counts().sum())\n",
    "sns.countplot(df['SeriousDlqin2yrs'], data=df)"
   ]
  },
  {
   "cell_type": "markdown",
   "metadata": {},
   "source": [
    "### There is heavy imbalance in the target variable. We will deal with this imbalance using different techniques below"
   ]
  },
  {
   "cell_type": "markdown",
   "metadata": {},
   "source": [
    "### Task 5 : Seperate the predictors and the target and split the data into training set and testing set. Keep the `test_size = 0.2` and the `random_state=42` "
   ]
  },
  {
   "cell_type": "code",
   "execution_count": 91,
   "metadata": {},
   "outputs": [
    {
     "data": {
      "text/plain": [
       "(150000, 10)"
      ]
     },
     "execution_count": 91,
     "metadata": {},
     "output_type": "execute_result"
    }
   ],
   "source": [
    "X.shape"
   ]
  },
  {
   "cell_type": "code",
   "execution_count": 109,
   "metadata": {},
   "outputs": [],
   "source": [
    "target = 'SeriousDlqin2yrs'\n",
    "\n",
    "X = df.loc[:,df.columns!=target]\n",
    "Y = df.loc[:,df.columns==target]\n",
    "\n",
    "X_train,X_test,Y_train,Y_test = train_test_split(X, Y, test_size=0.2, random_state=42)"
   ]
  },
  {
   "cell_type": "code",
   "execution_count": 110,
   "metadata": {},
   "outputs": [
    {
     "data": {
      "text/plain": [
       "(120000, 10)"
      ]
     },
     "execution_count": 110,
     "metadata": {},
     "output_type": "execute_result"
    }
   ],
   "source": [
    "X_train.shape"
   ]
  },
  {
   "cell_type": "code",
   "execution_count": 111,
   "metadata": {},
   "outputs": [],
   "source": [
    "Y_train = Y_train.SeriousDlqin2yrs.values\n",
    "Y_test = Y_test.SeriousDlqin2yrs.values"
   ]
  },
  {
   "cell_type": "code",
   "execution_count": 95,
   "metadata": {},
   "outputs": [
    {
     "data": {
      "text/html": [
       "<div>\n",
       "<style scoped>\n",
       "    .dataframe tbody tr th:only-of-type {\n",
       "        vertical-align: middle;\n",
       "    }\n",
       "\n",
       "    .dataframe tbody tr th {\n",
       "        vertical-align: top;\n",
       "    }\n",
       "\n",
       "    .dataframe thead th {\n",
       "        text-align: right;\n",
       "    }\n",
       "</style>\n",
       "<table border=\"1\" class=\"dataframe\">\n",
       "  <thead>\n",
       "    <tr style=\"text-align: right;\">\n",
       "      <th></th>\n",
       "      <th>RevolvingUtilizationOfUnsecuredLines</th>\n",
       "      <th>age</th>\n",
       "      <th>NumberOfTime30-59DaysPastDueNotWorse</th>\n",
       "      <th>DebtRatio</th>\n",
       "      <th>MonthlyIncome</th>\n",
       "      <th>NumberOfOpenCreditLinesAndLoans</th>\n",
       "      <th>NumberOfTimes90DaysLate</th>\n",
       "      <th>NumberRealEstateLoansOrLines</th>\n",
       "      <th>NumberOfTime60-89DaysPastDueNotWorse</th>\n",
       "      <th>NumberOfDependents</th>\n",
       "    </tr>\n",
       "  </thead>\n",
       "  <tbody>\n",
       "    <tr>\n",
       "      <th>104026</th>\n",
       "      <td>0.0000</td>\n",
       "      <td>29</td>\n",
       "      <td>0</td>\n",
       "      <td>0.0115</td>\n",
       "      <td>4342.0000</td>\n",
       "      <td>5</td>\n",
       "      <td>0</td>\n",
       "      <td>0</td>\n",
       "      <td>0</td>\n",
       "      <td>0.0000</td>\n",
       "    </tr>\n",
       "    <tr>\n",
       "      <th>5416</th>\n",
       "      <td>0.5955</td>\n",
       "      <td>55</td>\n",
       "      <td>0</td>\n",
       "      <td>0.8353</td>\n",
       "      <td>1833.0000</td>\n",
       "      <td>11</td>\n",
       "      <td>0</td>\n",
       "      <td>1</td>\n",
       "      <td>0</td>\n",
       "      <td>0.0000</td>\n",
       "    </tr>\n",
       "    <tr>\n",
       "      <th>75613</th>\n",
       "      <td>0.0000</td>\n",
       "      <td>43</td>\n",
       "      <td>0</td>\n",
       "      <td>0.0434</td>\n",
       "      <td>4166.0000</td>\n",
       "      <td>2</td>\n",
       "      <td>0</td>\n",
       "      <td>0</td>\n",
       "      <td>0</td>\n",
       "      <td>4.0000</td>\n",
       "    </tr>\n",
       "    <tr>\n",
       "      <th>138170</th>\n",
       "      <td>0.3920</td>\n",
       "      <td>40</td>\n",
       "      <td>0</td>\n",
       "      <td>0.0598</td>\n",
       "      <td>9000.0000</td>\n",
       "      <td>2</td>\n",
       "      <td>0</td>\n",
       "      <td>0</td>\n",
       "      <td>0</td>\n",
       "      <td>5.0000</td>\n",
       "    </tr>\n",
       "    <tr>\n",
       "      <th>87185</th>\n",
       "      <td>0.0000</td>\n",
       "      <td>35</td>\n",
       "      <td>0</td>\n",
       "      <td>0.1336</td>\n",
       "      <td>5800.0000</td>\n",
       "      <td>12</td>\n",
       "      <td>0</td>\n",
       "      <td>1</td>\n",
       "      <td>0</td>\n",
       "      <td>0.0000</td>\n",
       "    </tr>\n",
       "  </tbody>\n",
       "</table>\n",
       "</div>"
      ],
      "text/plain": [
       "        RevolvingUtilizationOfUnsecuredLines  age  \\\n",
       "104026 0.0000                                 29    \n",
       "5416   0.5955                                 55    \n",
       "75613  0.0000                                 43    \n",
       "138170 0.3920                                 40    \n",
       "87185  0.0000                                 35    \n",
       "\n",
       "        NumberOfTime30-59DaysPastDueNotWorse  DebtRatio  MonthlyIncome  \\\n",
       "104026  0                                    0.0115     4342.0000        \n",
       "5416    0                                    0.8353     1833.0000        \n",
       "75613   0                                    0.0434     4166.0000        \n",
       "138170  0                                    0.0598     9000.0000        \n",
       "87185   0                                    0.1336     5800.0000        \n",
       "\n",
       "        NumberOfOpenCreditLinesAndLoans  NumberOfTimes90DaysLate  \\\n",
       "104026  5                                0                         \n",
       "5416    11                               0                         \n",
       "75613   2                                0                         \n",
       "138170  2                                0                         \n",
       "87185   12                               0                         \n",
       "\n",
       "        NumberRealEstateLoansOrLines  NumberOfTime60-89DaysPastDueNotWorse  \\\n",
       "104026  0                             0                                      \n",
       "5416    1                             0                                      \n",
       "75613   0                             0                                      \n",
       "138170  0                             0                                      \n",
       "87185   1                             0                                      \n",
       "\n",
       "        NumberOfDependents  \n",
       "104026 0.0000               \n",
       "5416   0.0000               \n",
       "75613  4.0000               \n",
       "138170 5.0000               \n",
       "87185  0.0000               "
      ]
     },
     "execution_count": 95,
     "metadata": {},
     "output_type": "execute_result"
    }
   ],
   "source": [
    "X_train.head()"
   ]
  },
  {
   "cell_type": "code",
   "execution_count": 35,
   "metadata": {},
   "outputs": [],
   "source": [
    "#Y.SeriousDlqin2yrs.values"
   ]
  },
  {
   "cell_type": "markdown",
   "metadata": {},
   "source": [
    "### Task 6 : For a better method of inference, let's check for the correlation between different features by plotting a heatmap. The basic rule of feature selection is that we need to select features which are highly correlated to the dependent variable and also not highly correlated with each other as they show the same trend. "
   ]
  },
  {
   "cell_type": "code",
   "execution_count": 99,
   "metadata": {},
   "outputs": [
    {
     "data": {
      "text/plain": [
       "(10, 10)"
      ]
     },
     "execution_count": 99,
     "metadata": {},
     "output_type": "execute_result"
    }
   ],
   "source": [
    "corr.shape"
   ]
  },
  {
   "cell_type": "code",
   "execution_count": 97,
   "metadata": {},
   "outputs": [
    {
     "data": {
      "image/png": "[encoded data removed]",
      "text/plain": [
       "<Figure size 1080x504 with 2 Axes>"
      ]
     },
     "metadata": {},
     "output_type": "display_data"
    }
   ],
   "source": [
    "# Compute the correlation matrix\n",
    "corr = X_train.corr()\n",
    "\n",
    "# Generate a mask for the upper triangle\n",
    "mask = np.zeros_like(corr, dtype=np.bool)\n",
    "mask[np.triu_indices_from(mask)] = True\n",
    "\n",
    "# Set up the matplotlib figure\n",
    "f, ax = plt.subplots(figsize=(15,7));\n",
    "\n",
    "# Generate a custom diverging colormap\n",
    "cmap = sns.diverging_palette(250, 15, as_cmap=True);\n",
    "\n",
    "# Draw the heatmap with the mask and correct aspect ratio\n",
    "sns.heatmap(corr, mask=mask, cmap=cmap, vmax=.3, center=0,\n",
    "            square=True, linewidths=.5, cbar_kws={\"shrink\": .5},annot=True);"
   ]
  },
  {
   "cell_type": "code",
   "execution_count": null,
   "metadata": {},
   "outputs": [],
   "source": [
    "1. VIF plot\n",
    "2. 3 models - 1 with each as feature (logistic regresison)\n",
    "3. use RF or boosting with all features, use feature importance"
   ]
  },
  {
   "cell_type": "markdown",
   "metadata": {},
   "source": [
    "### Task 7 : We can see that the features `NumberOfTime60-89DaysPastDueNotWorse` is highly correlated along with the features `NumberOfTime30-59DaysPastDueNotWorse` and `NumberOfTimes90DaysLate`. So let's drop the features `NumberOfTime60-89DaysPastDueNotWorse` and `NumberOfTime30-59DaysPastDueNotWorse` from the train as well as the test data"
   ]
  },
  {
   "cell_type": "code",
   "execution_count": 112,
   "metadata": {},
   "outputs": [],
   "source": [
    "X_train.drop(['NumberOfTime30-59DaysPastDueNotWorse','NumberOfTime60-89DaysPastDueNotWorse'],1,inplace=True)\n",
    "X_test.drop(['NumberOfTime30-59DaysPastDueNotWorse','NumberOfTime60-89DaysPastDueNotWorse'],1,inplace=True)"
   ]
  },
  {
   "cell_type": "code",
   "execution_count": 141,
   "metadata": {},
   "outputs": [],
   "source": [
    "test_df = pd.DataFrame(columns=['model', 'Accuracy', 'Precision', 'Recall', 'F1', 'Cohen'])"
   ]
  },
  {
   "cell_type": "markdown",
   "metadata": {},
   "source": [
    "### Task 8 : Fit a vanilla Logistic Regression model on the training set and predict on the test set and plot the confusion matrix, accuracy, precision, recall and F1_score for the predicted model "
   ]
  },
  {
   "cell_type": "code",
   "execution_count": 142,
   "metadata": {},
   "outputs": [
    {
     "name": "stdout",
     "output_type": "stream",
     "text": [
      "Accuracy =  0.9349\n",
      "Precision =  0.5283018867924528\n",
      "Recall =  0.014314928425357873\n",
      "F1 Score =  0.027874564459930314\n",
      "cohen's kappa =  0.024518792573036685\n"
     ]
    },
    {
     "data": {
      "text/html": [
       "<div>\n",
       "<style scoped>\n",
       "    .dataframe tbody tr th:only-of-type {\n",
       "        vertical-align: middle;\n",
       "    }\n",
       "\n",
       "    .dataframe tbody tr th {\n",
       "        vertical-align: top;\n",
       "    }\n",
       "\n",
       "    .dataframe thead th {\n",
       "        text-align: right;\n",
       "    }\n",
       "</style>\n",
       "<table border=\"1\" class=\"dataframe\">\n",
       "  <thead>\n",
       "    <tr style=\"text-align: right;\">\n",
       "      <th>Actual</th>\n",
       "      <th>0</th>\n",
       "      <th>1</th>\n",
       "    </tr>\n",
       "    <tr>\n",
       "      <th>Predicted</th>\n",
       "      <th></th>\n",
       "      <th></th>\n",
       "    </tr>\n",
       "  </thead>\n",
       "  <tbody>\n",
       "    <tr>\n",
       "      <th>0</th>\n",
       "      <td>28019</td>\n",
       "      <td>1928</td>\n",
       "    </tr>\n",
       "    <tr>\n",
       "      <th>1</th>\n",
       "      <td>25</td>\n",
       "      <td>28</td>\n",
       "    </tr>\n",
       "  </tbody>\n",
       "</table>\n",
       "</div>"
      ],
      "text/plain": [
       "Actual         0     1\n",
       "Predicted             \n",
       "0          28019  1928\n",
       "1          25     28  "
      ]
     },
     "execution_count": 142,
     "metadata": {},
     "output_type": "execute_result"
    }
   ],
   "source": [
    "clf = LogisticRegression().fit(X_train, Y_train)\n",
    "\n",
    "Y_test_pred = clf.predict(X_test)\n",
    "\n",
    "print(\"Accuracy = \" , accuracy_score(Y_test, Y_test_pred))\n",
    "print(\"Precision = \" ,precision_score(Y_test, Y_test_pred))\n",
    "print(\"Recall = \" ,recall_score(Y_test, Y_test_pred))\n",
    "print(\"F1 Score = \" , f1_score(Y_test, Y_test_pred))\n",
    "print(\"cohen's kappa = \" , cohen_kappa_score(Y_test, Y_test_pred))\n",
    "\n",
    "#pd.crosstab(Y_test_pred, Y_test[target], rownames=['Predicted'], colnames=['Actual'])\n",
    "pd.crosstab(Y_test_pred, Y_test, rownames=['Predicted'], colnames=['Actual'])"
   ]
  },
  {
   "cell_type": "code",
   "execution_count": 143,
   "metadata": {},
   "outputs": [
    {
     "data": {
      "text/html": [
       "<div>\n",
       "<style scoped>\n",
       "    .dataframe tbody tr th:only-of-type {\n",
       "        vertical-align: middle;\n",
       "    }\n",
       "\n",
       "    .dataframe tbody tr th {\n",
       "        vertical-align: top;\n",
       "    }\n",
       "\n",
       "    .dataframe thead th {\n",
       "        text-align: right;\n",
       "    }\n",
       "</style>\n",
       "<table border=\"1\" class=\"dataframe\">\n",
       "  <thead>\n",
       "    <tr style=\"text-align: right;\">\n",
       "      <th></th>\n",
       "      <th>model</th>\n",
       "      <th>Accuracy</th>\n",
       "      <th>Precision</th>\n",
       "      <th>Recall</th>\n",
       "      <th>F1</th>\n",
       "      <th>Cohen</th>\n",
       "    </tr>\n",
       "  </thead>\n",
       "  <tbody>\n",
       "    <tr>\n",
       "      <th>0</th>\n",
       "      <td>vanilla</td>\n",
       "      <td>0.9349</td>\n",
       "      <td>0.5283</td>\n",
       "      <td>0.0143</td>\n",
       "      <td>0.0279</td>\n",
       "      <td>0.0245</td>\n",
       "    </tr>\n",
       "  </tbody>\n",
       "</table>\n",
       "</div>"
      ],
      "text/plain": [
       "     model  Accuracy  Precision  Recall     F1  Cohen\n",
       "0  vanilla 0.9349    0.5283     0.0143  0.0279 0.0245"
      ]
     },
     "execution_count": 143,
     "metadata": {},
     "output_type": "execute_result"
    }
   ],
   "source": [
    "test_df = pd.concat([test_df, pd.DataFrame([{'model':'vanilla',\n",
    "                                             'Accuracy': accuracy_score(Y_test, Y_test_pred), \n",
    "                                            'Precision': precision_score(Y_test, Y_test_pred),\n",
    "                                            'Recall': recall_score(Y_test, Y_test_pred),\n",
    "                                            'F1': f1_score(Y_test, Y_test_pred),\n",
    "                                            'Cohen': cohen_kappa_score(Y_test, Y_test_pred)}\n",
    "                                           ])\n",
    "                                           ])\n",
    "test_df"
   ]
  },
  {
   "cell_type": "markdown",
   "metadata": {},
   "source": [
    "### The recall is low and this is because from the matrix above, we can see that the False Negatives are too many in the data. This was supposed to happen because since the target is highly imbalanced with lesser number of 1s, our model has learnt to predict only 0s most of the times. But as per our problem, we are more concerned with the occurence of a delinquency i.e with the prediction of 1s and not 0s. Hence we have to treat this class imbalance first"
   ]
  },
  {
   "cell_type": "markdown",
   "metadata": {},
   "source": [
    "### Task 9 : Set the parameter `class_weight=balanced` inside Logistic Regression and check for the metrics calculated above and also the confusion matrix"
   ]
  },
  {
   "cell_type": "code",
   "execution_count": 144,
   "metadata": {
    "scrolled": true
   },
   "outputs": [
    {
     "name": "stdout",
     "output_type": "stream",
     "text": [
      "Accuracy =  0.8323333333333334\n",
      "Precision =  0.18874038072093965\n",
      "Recall =  0.47648261758691207\n",
      "F1 Score =  0.2703800406150276\n",
      "cohen's kappa =  0.024518792573036685\n"
     ]
    },
    {
     "data": {
      "text/html": [
       "<div>\n",
       "<style scoped>\n",
       "    .dataframe tbody tr th:only-of-type {\n",
       "        vertical-align: middle;\n",
       "    }\n",
       "\n",
       "    .dataframe tbody tr th {\n",
       "        vertical-align: top;\n",
       "    }\n",
       "\n",
       "    .dataframe thead th {\n",
       "        text-align: right;\n",
       "    }\n",
       "</style>\n",
       "<table border=\"1\" class=\"dataframe\">\n",
       "  <thead>\n",
       "    <tr style=\"text-align: right;\">\n",
       "      <th>Actual</th>\n",
       "      <th>0</th>\n",
       "      <th>1</th>\n",
       "    </tr>\n",
       "    <tr>\n",
       "      <th>Predicted</th>\n",
       "      <th></th>\n",
       "      <th></th>\n",
       "    </tr>\n",
       "  </thead>\n",
       "  <tbody>\n",
       "    <tr>\n",
       "      <th>0</th>\n",
       "      <td>28019</td>\n",
       "      <td>1928</td>\n",
       "    </tr>\n",
       "    <tr>\n",
       "      <th>1</th>\n",
       "      <td>25</td>\n",
       "      <td>28</td>\n",
       "    </tr>\n",
       "  </tbody>\n",
       "</table>\n",
       "</div>"
      ],
      "text/plain": [
       "Actual         0     1\n",
       "Predicted             \n",
       "0          28019  1928\n",
       "1          25     28  "
      ]
     },
     "execution_count": 144,
     "metadata": {},
     "output_type": "execute_result"
    }
   ],
   "source": [
    "clf = LogisticRegression(class_weight='balanced').fit(X_train, Y_train)\n",
    "\n",
    "Y_test_pred_balanced = clf.predict(X_test)\n",
    "\n",
    "print(\"Accuracy = \" , accuracy_score(Y_test, Y_test_pred_balanced))\n",
    "print(\"Precision = \" ,precision_score(Y_test, Y_test_pred_balanced))\n",
    "print(\"Recall = \" ,recall_score(Y_test, Y_test_pred_balanced))\n",
    "print(\"F1 Score = \" ,f1_score(Y_test, Y_test_pred_balanced))\n",
    "print(\"cohen's kappa = \" , cohen_kappa_score(Y_test, Y_test_pred))\n",
    "\n",
    "#pd.crosstab(Y_test_pred_balanced, Y_test[target], rownames=['Predicted'], colnames=['Actual'])\n",
    "pd.crosstab(Y_test_pred, Y_test, rownames=['Predicted'], colnames=['Actual'])"
   ]
  },
  {
   "cell_type": "code",
   "execution_count": 145,
   "metadata": {},
   "outputs": [
    {
     "data": {
      "text/html": [
       "<div>\n",
       "<style scoped>\n",
       "    .dataframe tbody tr th:only-of-type {\n",
       "        vertical-align: middle;\n",
       "    }\n",
       "\n",
       "    .dataframe tbody tr th {\n",
       "        vertical-align: top;\n",
       "    }\n",
       "\n",
       "    .dataframe thead th {\n",
       "        text-align: right;\n",
       "    }\n",
       "</style>\n",
       "<table border=\"1\" class=\"dataframe\">\n",
       "  <thead>\n",
       "    <tr style=\"text-align: right;\">\n",
       "      <th></th>\n",
       "      <th>model</th>\n",
       "      <th>Accuracy</th>\n",
       "      <th>Precision</th>\n",
       "      <th>Recall</th>\n",
       "      <th>F1</th>\n",
       "      <th>Cohen</th>\n",
       "    </tr>\n",
       "  </thead>\n",
       "  <tbody>\n",
       "    <tr>\n",
       "      <th>0</th>\n",
       "      <td>vanilla</td>\n",
       "      <td>0.9349</td>\n",
       "      <td>0.5283</td>\n",
       "      <td>0.0143</td>\n",
       "      <td>0.0279</td>\n",
       "      <td>0.0245</td>\n",
       "    </tr>\n",
       "    <tr>\n",
       "      <th>0</th>\n",
       "      <td>class_weight</td>\n",
       "      <td>0.8323</td>\n",
       "      <td>0.1887</td>\n",
       "      <td>0.4765</td>\n",
       "      <td>0.2704</td>\n",
       "      <td>0.1952</td>\n",
       "    </tr>\n",
       "  </tbody>\n",
       "</table>\n",
       "</div>"
      ],
      "text/plain": [
       "          model  Accuracy  Precision  Recall     F1  Cohen\n",
       "0  vanilla      0.9349    0.5283     0.0143  0.0279 0.0245\n",
       "0  class_weight 0.8323    0.1887     0.4765  0.2704 0.1952"
      ]
     },
     "execution_count": 145,
     "metadata": {},
     "output_type": "execute_result"
    }
   ],
   "source": [
    "test_df = pd.concat([test_df, pd.DataFrame([{'model':'class_weight',\n",
    "                                             'Accuracy': accuracy_score(Y_test, Y_test_pred_balanced), \n",
    "                                            'Precision': precision_score(Y_test, Y_test_pred_balanced),\n",
    "                                            'Recall': recall_score(Y_test, Y_test_pred_balanced),\n",
    "                                            'F1': f1_score(Y_test, Y_test_pred_balanced),\n",
    "                                            'Cohen': cohen_kappa_score(Y_test, Y_test_pred_balanced)}\n",
    "                                           ])\n",
    "                                           ])\n",
    "test_df"
   ]
  },
  {
   "cell_type": "code",
   "execution_count": 149,
   "metadata": {},
   "outputs": [
    {
     "data": {
      "text/plain": [
       "array([[-2.83111166e-05, -1.36570973e-02, -9.71851637e-06,\n",
       "        -1.37154171e-05,  2.81362804e-02,  8.21680186e-01,\n",
       "         3.06387688e-02,  1.43961413e-01]])"
      ]
     },
     "execution_count": 149,
     "metadata": {},
     "output_type": "execute_result"
    },
    {
     "data": {
      "text/plain": [
       "array([0.0639874])"
      ]
     },
     "execution_count": 149,
     "metadata": {},
     "output_type": "execute_result"
    }
   ],
   "source": [
    "clf.coef_\n",
    "clf.intercept_\n",
    "\n",
    "1. inspection of coeff\n",
    "2. hyper param tuning\n",
    "3. scaling"
   ]
  },
  {
   "cell_type": "code",
   "execution_count": null,
   "metadata": {},
   "outputs": [],
   "source": [
    "Does logistic regression require feature scaling?\n",
    "1. vanilla logistic regression does not scaling\n",
    "2. If you are using regularisation it needs scaling"
   ]
  },
  {
   "cell_type": "code",
   "execution_count": 152,
   "metadata": {},
   "outputs": [
    {
     "data": {
      "text/html": [
       "<div>\n",
       "<style scoped>\n",
       "    .dataframe tbody tr th:only-of-type {\n",
       "        vertical-align: middle;\n",
       "    }\n",
       "\n",
       "    .dataframe tbody tr th {\n",
       "        vertical-align: top;\n",
       "    }\n",
       "\n",
       "    .dataframe thead th {\n",
       "        text-align: right;\n",
       "    }\n",
       "</style>\n",
       "<table border=\"1\" class=\"dataframe\">\n",
       "  <thead>\n",
       "    <tr style=\"text-align: right;\">\n",
       "      <th></th>\n",
       "      <th>RevolvingUtilizationOfUnsecuredLines</th>\n",
       "      <th>age</th>\n",
       "      <th>DebtRatio</th>\n",
       "      <th>MonthlyIncome</th>\n",
       "      <th>NumberOfOpenCreditLinesAndLoans</th>\n",
       "      <th>NumberOfTimes90DaysLate</th>\n",
       "      <th>NumberRealEstateLoansOrLines</th>\n",
       "      <th>NumberOfDependents</th>\n",
       "    </tr>\n",
       "  </thead>\n",
       "  <tbody>\n",
       "    <tr>\n",
       "      <th>104026</th>\n",
       "      <td>0.0000</td>\n",
       "      <td>29</td>\n",
       "      <td>0.0115</td>\n",
       "      <td>4342.0000</td>\n",
       "      <td>5</td>\n",
       "      <td>0</td>\n",
       "      <td>0</td>\n",
       "      <td>0.0000</td>\n",
       "    </tr>\n",
       "    <tr>\n",
       "      <th>5416</th>\n",
       "      <td>0.5955</td>\n",
       "      <td>55</td>\n",
       "      <td>0.8353</td>\n",
       "      <td>1833.0000</td>\n",
       "      <td>11</td>\n",
       "      <td>0</td>\n",
       "      <td>1</td>\n",
       "      <td>0.0000</td>\n",
       "    </tr>\n",
       "    <tr>\n",
       "      <th>75613</th>\n",
       "      <td>0.0000</td>\n",
       "      <td>43</td>\n",
       "      <td>0.0434</td>\n",
       "      <td>4166.0000</td>\n",
       "      <td>2</td>\n",
       "      <td>0</td>\n",
       "      <td>0</td>\n",
       "      <td>4.0000</td>\n",
       "    </tr>\n",
       "    <tr>\n",
       "      <th>138170</th>\n",
       "      <td>0.3920</td>\n",
       "      <td>40</td>\n",
       "      <td>0.0598</td>\n",
       "      <td>9000.0000</td>\n",
       "      <td>2</td>\n",
       "      <td>0</td>\n",
       "      <td>0</td>\n",
       "      <td>5.0000</td>\n",
       "    </tr>\n",
       "    <tr>\n",
       "      <th>87185</th>\n",
       "      <td>0.0000</td>\n",
       "      <td>35</td>\n",
       "      <td>0.1336</td>\n",
       "      <td>5800.0000</td>\n",
       "      <td>12</td>\n",
       "      <td>0</td>\n",
       "      <td>1</td>\n",
       "      <td>0.0000</td>\n",
       "    </tr>\n",
       "  </tbody>\n",
       "</table>\n",
       "</div>"
      ],
      "text/plain": [
       "        RevolvingUtilizationOfUnsecuredLines  age  DebtRatio  MonthlyIncome  \\\n",
       "104026 0.0000                                 29  0.0115     4342.0000        \n",
       "5416   0.5955                                 55  0.8353     1833.0000        \n",
       "75613  0.0000                                 43  0.0434     4166.0000        \n",
       "138170 0.3920                                 40  0.0598     9000.0000        \n",
       "87185  0.0000                                 35  0.1336     5800.0000        \n",
       "\n",
       "        NumberOfOpenCreditLinesAndLoans  NumberOfTimes90DaysLate  \\\n",
       "104026  5                                0                         \n",
       "5416    11                               0                         \n",
       "75613   2                                0                         \n",
       "138170  2                                0                         \n",
       "87185   12                               0                         \n",
       "\n",
       "        NumberRealEstateLoansOrLines  NumberOfDependents  \n",
       "104026  0                            0.0000               \n",
       "5416    1                            0.0000               \n",
       "75613   0                            4.0000               \n",
       "138170  0                            5.0000               \n",
       "87185   1                            0.0000               "
      ]
     },
     "execution_count": 152,
     "metadata": {},
     "output_type": "execute_result"
    }
   ],
   "source": [
    "X_train.head()"
   ]
  },
  {
   "cell_type": "markdown",
   "metadata": {},
   "source": [
    "### We can see that the recall has increased from ~1.4% to ~63% by setting the `class_weight`, since the False Negatives have also reduced, but the Precision seems to have reduced. This is a trade-off, we have to accept. \n",
    "\n",
    "### By setting the class weights we got a decent recall score. But this may not be the case all the times. In such cases, will have to use other resampling methods like \n",
    "- Random Oversampling\n",
    "- Random Undersampling\n",
    "- Tomek Undersampling\n",
    "- SMOTE \n",
    "\n",
    "### NOTE : All types of Undersampling and Oversampling techniques are always performed on the train data and not on the test data"
   ]
  },
  {
   "cell_type": "markdown",
   "metadata": {},
   "source": [
    "### Task 10 : Perform Random Undersampling on the train data and then fit a Logistic regression model on this undersampled data and then predict on the test data and calculate the precision, recall, accuracy, f1-score and the confusion matrix."
   ]
  },
  {
   "cell_type": "code",
   "execution_count": 153,
   "metadata": {},
   "outputs": [],
   "source": [
    "from imblearn.under_sampling import RandomUnderSampler\n",
    "#Code starts here\n",
    "\n",
    "# Create random under sampler object\n",
    "rus = RandomUnderSampler(random_state=0)\n",
    "\n",
    "#Undersampling the train data\n",
    "X_sample_1, y_sample_1 =  rus.fit_sample(X_train, Y_train)"
   ]
  },
  {
   "cell_type": "code",
   "execution_count": 154,
   "metadata": {},
   "outputs": [
    {
     "data": {
      "text/plain": [
       "LogisticRegression(C=1.0, class_weight=None, dual=False, fit_intercept=True,\n",
       "                   intercept_scaling=1, l1_ratio=None, max_iter=100,\n",
       "                   multi_class='auto', n_jobs=None, penalty='l2',\n",
       "                   random_state=None, solver='lbfgs', tol=0.0001, verbose=0,\n",
       "                   warm_start=False)"
      ]
     },
     "execution_count": 154,
     "metadata": {},
     "output_type": "execute_result"
    },
    {
     "name": "stdout",
     "output_type": "stream",
     "text": [
      "Accuracy =  0.829\n",
      "Precision =  0.18461844197138313\n",
      "Recall =  0.47494887525562374\n",
      "F1 Score =  0.2658843732112192\n"
     ]
    },
    {
     "data": {
      "text/html": [
       "<div>\n",
       "<style scoped>\n",
       "    .dataframe tbody tr th:only-of-type {\n",
       "        vertical-align: middle;\n",
       "    }\n",
       "\n",
       "    .dataframe tbody tr th {\n",
       "        vertical-align: top;\n",
       "    }\n",
       "\n",
       "    .dataframe thead th {\n",
       "        text-align: right;\n",
       "    }\n",
       "</style>\n",
       "<table border=\"1\" class=\"dataframe\">\n",
       "  <thead>\n",
       "    <tr style=\"text-align: right;\">\n",
       "      <th>Actual</th>\n",
       "      <th>0</th>\n",
       "      <th>1</th>\n",
       "    </tr>\n",
       "    <tr>\n",
       "      <th>Predicted</th>\n",
       "      <th></th>\n",
       "      <th></th>\n",
       "    </tr>\n",
       "  </thead>\n",
       "  <tbody>\n",
       "    <tr>\n",
       "      <th>0</th>\n",
       "      <td>28019</td>\n",
       "      <td>1928</td>\n",
       "    </tr>\n",
       "    <tr>\n",
       "      <th>1</th>\n",
       "      <td>25</td>\n",
       "      <td>28</td>\n",
       "    </tr>\n",
       "  </tbody>\n",
       "</table>\n",
       "</div>"
      ],
      "text/plain": [
       "Actual         0     1\n",
       "Predicted             \n",
       "0          28019  1928\n",
       "1          25     28  "
      ]
     },
     "execution_count": 154,
     "metadata": {},
     "output_type": "execute_result"
    }
   ],
   "source": [
    "#Initiating a logistic regression model\n",
    "model_rus = LogisticRegression()\n",
    "\n",
    "#Fitting the model with sampled data\n",
    "model_rus.fit(X_sample_1, y_sample_1)\n",
    "\n",
    "#Making prediction of test values\n",
    "Y_pred=model_rus.predict(X_test)\n",
    "\n",
    "# Calculating the necessary metrics\n",
    "print(\"Accuracy = \" , accuracy_score(Y_test, Y_pred))\n",
    "print(\"Precision = \" ,precision_score(Y_test, Y_pred))\n",
    "print(\"Recall = \" ,recall_score(Y_test, Y_pred))\n",
    "print(\"F1 Score = \" ,f1_score(Y_test, Y_pred))\n",
    "\n",
    "#Finding the confusion matrix\n",
    "#pd.crosstab(Y_pred, Y_test[target], rownames=['Predicted'], colnames=['Actual'])\n",
    "pd.crosstab(Y_test_pred, Y_test, rownames=['Predicted'], colnames=['Actual'])\n",
    "\n",
    "#Code ends here"
   ]
  },
  {
   "cell_type": "code",
   "execution_count": 155,
   "metadata": {},
   "outputs": [
    {
     "data": {
      "text/html": [
       "<div>\n",
       "<style scoped>\n",
       "    .dataframe tbody tr th:only-of-type {\n",
       "        vertical-align: middle;\n",
       "    }\n",
       "\n",
       "    .dataframe tbody tr th {\n",
       "        vertical-align: top;\n",
       "    }\n",
       "\n",
       "    .dataframe thead th {\n",
       "        text-align: right;\n",
       "    }\n",
       "</style>\n",
       "<table border=\"1\" class=\"dataframe\">\n",
       "  <thead>\n",
       "    <tr style=\"text-align: right;\">\n",
       "      <th></th>\n",
       "      <th>model</th>\n",
       "      <th>Accuracy</th>\n",
       "      <th>Precision</th>\n",
       "      <th>Recall</th>\n",
       "      <th>F1</th>\n",
       "      <th>Cohen</th>\n",
       "    </tr>\n",
       "  </thead>\n",
       "  <tbody>\n",
       "    <tr>\n",
       "      <th>0</th>\n",
       "      <td>vanilla</td>\n",
       "      <td>0.9349</td>\n",
       "      <td>0.5283</td>\n",
       "      <td>0.0143</td>\n",
       "      <td>0.0279</td>\n",
       "      <td>0.0245</td>\n",
       "    </tr>\n",
       "    <tr>\n",
       "      <th>0</th>\n",
       "      <td>class_weight</td>\n",
       "      <td>0.8323</td>\n",
       "      <td>0.1887</td>\n",
       "      <td>0.4765</td>\n",
       "      <td>0.2704</td>\n",
       "      <td>0.1952</td>\n",
       "    </tr>\n",
       "    <tr>\n",
       "      <th>0</th>\n",
       "      <td>under_sample</td>\n",
       "      <td>0.8290</td>\n",
       "      <td>0.1846</td>\n",
       "      <td>0.4749</td>\n",
       "      <td>0.2659</td>\n",
       "      <td>0.1898</td>\n",
       "    </tr>\n",
       "  </tbody>\n",
       "</table>\n",
       "</div>"
      ],
      "text/plain": [
       "          model  Accuracy  Precision  Recall     F1  Cohen\n",
       "0  vanilla      0.9349    0.5283     0.0143  0.0279 0.0245\n",
       "0  class_weight 0.8323    0.1887     0.4765  0.2704 0.1952\n",
       "0  under_sample 0.8290    0.1846     0.4749  0.2659 0.1898"
      ]
     },
     "execution_count": 155,
     "metadata": {},
     "output_type": "execute_result"
    }
   ],
   "source": [
    "test_df = pd.concat([test_df, pd.DataFrame([{'model':'under_sample',\n",
    "                                             'Accuracy': accuracy_score(Y_test, Y_pred), \n",
    "                                            'Precision': precision_score(Y_test, Y_pred),\n",
    "                                            'Recall': recall_score(Y_test, Y_pred),\n",
    "                                            'F1': f1_score(Y_test, Y_pred),\n",
    "                                            'Cohen': cohen_kappa_score(Y_test, Y_pred)}\n",
    "                                           ])\n",
    "                                           ])\n",
    "test_df"
   ]
  },
  {
   "cell_type": "markdown",
   "metadata": {},
   "source": [
    "### So Random Undersampling gives a slightly better recall than just setting class_weights as balanced. Let's now see how another undersampling method called Tomek Undersampling performs "
   ]
  },
  {
   "cell_type": "markdown",
   "metadata": {},
   "source": [
    "### Task 11 : Perform Tomek Undersampling on the train data and then fit a Logistic regression model on this undersampled data and then predict on the test data and calculate the precision, recall, accuracy, f1-score and the confusion matrix."
   ]
  },
  {
   "cell_type": "code",
   "execution_count": 156,
   "metadata": {},
   "outputs": [
    {
     "data": {
      "text/plain": [
       "<AxesSubplot:ylabel='count'>"
      ]
     },
     "execution_count": 156,
     "metadata": {},
     "output_type": "execute_result"
    },
    {
     "data": {
      "text/plain": [
       "LogisticRegression(C=1.0, class_weight=None, dual=False, fit_intercept=True,\n",
       "                   intercept_scaling=1, l1_ratio=None, max_iter=100,\n",
       "                   multi_class='auto', n_jobs=None, penalty='l2',\n",
       "                   random_state=None, solver='lbfgs', tol=0.0001, verbose=0,\n",
       "                   warm_start=False)"
      ]
     },
     "execution_count": 156,
     "metadata": {},
     "output_type": "execute_result"
    },
    {
     "name": "stdout",
     "output_type": "stream",
     "text": [
      "Accuracy =  0.9348666666666666\n",
      "Precision =  0.5185185185185185\n",
      "Recall =  0.014314928425357873\n",
      "F1 Score =  0.027860696517412933\n"
     ]
    },
    {
     "data": {
      "text/html": [
       "<div>\n",
       "<style scoped>\n",
       "    .dataframe tbody tr th:only-of-type {\n",
       "        vertical-align: middle;\n",
       "    }\n",
       "\n",
       "    .dataframe tbody tr th {\n",
       "        vertical-align: top;\n",
       "    }\n",
       "\n",
       "    .dataframe thead th {\n",
       "        text-align: right;\n",
       "    }\n",
       "</style>\n",
       "<table border=\"1\" class=\"dataframe\">\n",
       "  <thead>\n",
       "    <tr style=\"text-align: right;\">\n",
       "      <th>Actual</th>\n",
       "      <th>0</th>\n",
       "      <th>1</th>\n",
       "    </tr>\n",
       "    <tr>\n",
       "      <th>Predicted</th>\n",
       "      <th></th>\n",
       "      <th></th>\n",
       "    </tr>\n",
       "  </thead>\n",
       "  <tbody>\n",
       "    <tr>\n",
       "      <th>0</th>\n",
       "      <td>28018</td>\n",
       "      <td>1928</td>\n",
       "    </tr>\n",
       "    <tr>\n",
       "      <th>1</th>\n",
       "      <td>26</td>\n",
       "      <td>28</td>\n",
       "    </tr>\n",
       "  </tbody>\n",
       "</table>\n",
       "</div>"
      ],
      "text/plain": [
       "Actual         0     1\n",
       "Predicted             \n",
       "0          28018  1928\n",
       "1          26     28  "
      ]
     },
     "execution_count": 156,
     "metadata": {},
     "output_type": "execute_result"
    },
    {
     "data": {
      "image/png": "[encoded data removed]",
      "text/plain": [
       "<Figure size 432x288 with 1 Axes>"
      ]
     },
     "metadata": {},
     "output_type": "display_data"
    }
   ],
   "source": [
    "# Import package\n",
    "from imblearn.under_sampling import TomekLinks\n",
    "\n",
    "#Code starts here\n",
    "\n",
    "#Initialising Tomek Links object\n",
    "tl = TomekLinks()\n",
    "\n",
    "#Undersamlpling the train data\n",
    "X_sample4, y_sample4 = tl.fit_sample(X_train, Y_train)\n",
    "\n",
    "# Plot the distribution of the target using a countplot\n",
    "sns.countplot(y_sample4)\n",
    "\n",
    "#Initialising the logistic regression model\n",
    "model_tl = LogisticRegression()\n",
    "\n",
    "#Fitting the model with sampled data\n",
    "model_tl.fit(X_sample4, y_sample4)\n",
    "\n",
    "#Making the predictions with test data\n",
    "Y_pred_tomek=model_tl.predict(X_test)\n",
    "\n",
    "# Calculating the necessary metrics\n",
    "print(\"Accuracy = \" , accuracy_score(Y_test, Y_pred_tomek))\n",
    "print(\"Precision = \" ,precision_score(Y_test, Y_pred_tomek))\n",
    "print(\"Recall = \" ,recall_score(Y_test, Y_pred_tomek))\n",
    "print(\"F1 Score = \" ,f1_score(Y_test, Y_pred_tomek))\n",
    "\n",
    "#Finding the confusion matrix\n",
    "pd.crosstab(Y_pred_tomek, Y_test,rownames=['Predicted'], colnames=['Actual'])\n",
    "\n",
    "#Code ends here"
   ]
  },
  {
   "cell_type": "code",
   "execution_count": 157,
   "metadata": {
    "scrolled": true
   },
   "outputs": [
    {
     "data": {
      "text/html": [
       "<div>\n",
       "<style scoped>\n",
       "    .dataframe tbody tr th:only-of-type {\n",
       "        vertical-align: middle;\n",
       "    }\n",
       "\n",
       "    .dataframe tbody tr th {\n",
       "        vertical-align: top;\n",
       "    }\n",
       "\n",
       "    .dataframe thead th {\n",
       "        text-align: right;\n",
       "    }\n",
       "</style>\n",
       "<table border=\"1\" class=\"dataframe\">\n",
       "  <thead>\n",
       "    <tr style=\"text-align: right;\">\n",
       "      <th></th>\n",
       "      <th>model</th>\n",
       "      <th>Accuracy</th>\n",
       "      <th>Precision</th>\n",
       "      <th>Recall</th>\n",
       "      <th>F1</th>\n",
       "      <th>Cohen</th>\n",
       "    </tr>\n",
       "  </thead>\n",
       "  <tbody>\n",
       "    <tr>\n",
       "      <th>0</th>\n",
       "      <td>vanilla</td>\n",
       "      <td>0.9349</td>\n",
       "      <td>0.5283</td>\n",
       "      <td>0.0143</td>\n",
       "      <td>0.0279</td>\n",
       "      <td>0.0245</td>\n",
       "    </tr>\n",
       "    <tr>\n",
       "      <th>0</th>\n",
       "      <td>class_weight</td>\n",
       "      <td>0.8323</td>\n",
       "      <td>0.1887</td>\n",
       "      <td>0.4765</td>\n",
       "      <td>0.2704</td>\n",
       "      <td>0.1952</td>\n",
       "    </tr>\n",
       "    <tr>\n",
       "      <th>0</th>\n",
       "      <td>under_sample</td>\n",
       "      <td>0.8290</td>\n",
       "      <td>0.1846</td>\n",
       "      <td>0.4749</td>\n",
       "      <td>0.2659</td>\n",
       "      <td>0.1898</td>\n",
       "    </tr>\n",
       "    <tr>\n",
       "      <th>0</th>\n",
       "      <td>tomek_undersample</td>\n",
       "      <td>0.9349</td>\n",
       "      <td>0.5185</td>\n",
       "      <td>0.0143</td>\n",
       "      <td>0.0279</td>\n",
       "      <td>0.0244</td>\n",
       "    </tr>\n",
       "  </tbody>\n",
       "</table>\n",
       "</div>"
      ],
      "text/plain": [
       "               model  Accuracy  Precision  Recall     F1  Cohen\n",
       "0  vanilla           0.9349    0.5283     0.0143  0.0279 0.0245\n",
       "0  class_weight      0.8323    0.1887     0.4765  0.2704 0.1952\n",
       "0  under_sample      0.8290    0.1846     0.4749  0.2659 0.1898\n",
       "0  tomek_undersample 0.9349    0.5185     0.0143  0.0279 0.0244"
      ]
     },
     "execution_count": 157,
     "metadata": {},
     "output_type": "execute_result"
    }
   ],
   "source": [
    "test_df = pd.concat([test_df, pd.DataFrame([{'model':'tomek_undersample',\n",
    "                                             'Accuracy': accuracy_score(Y_test, Y_pred_tomek), \n",
    "                                            'Precision': precision_score(Y_test, Y_pred_tomek),\n",
    "                                            'Recall': recall_score(Y_test, Y_pred_tomek),\n",
    "                                            'F1': f1_score(Y_test, Y_pred_tomek),\n",
    "                                            'Cohen': cohen_kappa_score(Y_test, Y_pred_tomek)}\n",
    "                                           ])\n",
    "                                           ])\n",
    "test_df"
   ]
  },
  {
   "cell_type": "code",
   "execution_count": null,
   "metadata": {},
   "outputs": [],
   "source": [
    "1. the number of tomek links created itself might be very less\n",
    "2. the data which is undersampled is very less - as good as your original dataset"
   ]
  },
  {
   "cell_type": "markdown",
   "metadata": {},
   "source": [
    "### Tomek Undersampling doesn't seem a good fit for data. There is hardly any increase in recall compared to the vanilla model. Undersampling techniques, even if they provide an increase in the metric of choice, are not favoured since you tend to lose some information when you undersample the majority class of the target. Hence in most cases, what we prefer to perform are Oversampling techniques like Random Oversampling and SMOTE."
   ]
  },
  {
   "cell_type": "markdown",
   "metadata": {},
   "source": [
    "### Task 12 : Perform Random Oversampling on the train data and then fit a Logistic regression model on this undersampled data and then predict on the test data and calculate the precision, recall, accuracy, f1-score and the confusion matrix."
   ]
  },
  {
   "cell_type": "code",
   "execution_count": 159,
   "metadata": {},
   "outputs": [
    {
     "data": {
      "text/plain": [
       "<AxesSubplot:ylabel='count'>"
      ]
     },
     "execution_count": 159,
     "metadata": {},
     "output_type": "execute_result"
    },
    {
     "data": {
      "text/plain": [
       "LogisticRegression(C=1.0, class_weight=None, dual=False, fit_intercept=True,\n",
       "                   intercept_scaling=1, l1_ratio=None, max_iter=100,\n",
       "                   multi_class='auto', n_jobs=None, penalty='l2',\n",
       "                   random_state=None, solver='lbfgs', tol=0.0001, verbose=0,\n",
       "                   warm_start=False)"
      ]
     },
     "execution_count": 159,
     "metadata": {},
     "output_type": "execute_result"
    },
    {
     "name": "stdout",
     "output_type": "stream",
     "text": [
      "Accuracy =  0.8355333333333334\n",
      "Precision =  0.19133499170812604\n",
      "Recall =  0.471881390593047\n",
      "F1 Score =  0.27227138643067844\n"
     ]
    },
    {
     "data": {
      "text/html": [
       "<div>\n",
       "<style scoped>\n",
       "    .dataframe tbody tr th:only-of-type {\n",
       "        vertical-align: middle;\n",
       "    }\n",
       "\n",
       "    .dataframe tbody tr th {\n",
       "        vertical-align: top;\n",
       "    }\n",
       "\n",
       "    .dataframe thead th {\n",
       "        text-align: right;\n",
       "    }\n",
       "</style>\n",
       "<table border=\"1\" class=\"dataframe\">\n",
       "  <thead>\n",
       "    <tr style=\"text-align: right;\">\n",
       "      <th>Actual</th>\n",
       "      <th>0</th>\n",
       "      <th>1</th>\n",
       "    </tr>\n",
       "    <tr>\n",
       "      <th>Predicted</th>\n",
       "      <th></th>\n",
       "      <th></th>\n",
       "    </tr>\n",
       "  </thead>\n",
       "  <tbody>\n",
       "    <tr>\n",
       "      <th>0</th>\n",
       "      <td>24143</td>\n",
       "      <td>1033</td>\n",
       "    </tr>\n",
       "    <tr>\n",
       "      <th>1</th>\n",
       "      <td>3901</td>\n",
       "      <td>923</td>\n",
       "    </tr>\n",
       "  </tbody>\n",
       "</table>\n",
       "</div>"
      ],
      "text/plain": [
       "Actual         0     1\n",
       "Predicted             \n",
       "0          24143  1033\n",
       "1          3901   923 "
      ]
     },
     "execution_count": 159,
     "metadata": {},
     "output_type": "execute_result"
    },
    {
     "data": {
      "image/png": "[encoded data removed]",
      "text/plain": [
       "<Figure size 432x288 with 1 Axes>"
      ]
     },
     "metadata": {},
     "output_type": "display_data"
    }
   ],
   "source": [
    "from imblearn.over_sampling import RandomOverSampler\n",
    "\n",
    "#Code starts here\n",
    "\n",
    "#Initialise the random over sampler object\n",
    "ros = RandomOverSampler(random_state=0)\n",
    "\n",
    "#Sample the train data using random over sampling method\n",
    "X_sample_2, y_sample_2 = ros.fit_sample(X_train, Y_train)\n",
    "\n",
    "# Using a countplot \n",
    "sns.countplot(y_sample_2)\n",
    "\n",
    "#Initialising a logsitic regression model\n",
    "model_ros = LogisticRegression()\n",
    "\n",
    "#Fitting the model with train data\n",
    "model_ros.fit(X_sample_2, y_sample_2)\n",
    "\n",
    "#Making predictions of the train data\n",
    "Y_pred=model_ros.predict(X_test)\n",
    "\n",
    "# Calculating the necessary metrics\n",
    "print(\"Accuracy = \" , accuracy_score(Y_test, Y_pred))\n",
    "print(\"Precision = \" ,precision_score(Y_test, Y_pred))\n",
    "print(\"Recall = \" ,recall_score(Y_test, Y_pred))\n",
    "print(\"F1 Score = \" ,f1_score(Y_test, Y_pred))\n",
    "\n",
    "#Finding the confusion matrix \n",
    "pd.crosstab(Y_pred, Y_test, rownames=['Predicted'], colnames=['Actual'])\n",
    "\n",
    "#Code ends here"
   ]
  },
  {
   "cell_type": "code",
   "execution_count": 160,
   "metadata": {},
   "outputs": [
    {
     "data": {
      "text/html": [
       "<div>\n",
       "<style scoped>\n",
       "    .dataframe tbody tr th:only-of-type {\n",
       "        vertical-align: middle;\n",
       "    }\n",
       "\n",
       "    .dataframe tbody tr th {\n",
       "        vertical-align: top;\n",
       "    }\n",
       "\n",
       "    .dataframe thead th {\n",
       "        text-align: right;\n",
       "    }\n",
       "</style>\n",
       "<table border=\"1\" class=\"dataframe\">\n",
       "  <thead>\n",
       "    <tr style=\"text-align: right;\">\n",
       "      <th></th>\n",
       "      <th>model</th>\n",
       "      <th>Accuracy</th>\n",
       "      <th>Precision</th>\n",
       "      <th>Recall</th>\n",
       "      <th>F1</th>\n",
       "      <th>Cohen</th>\n",
       "    </tr>\n",
       "  </thead>\n",
       "  <tbody>\n",
       "    <tr>\n",
       "      <th>0</th>\n",
       "      <td>vanilla</td>\n",
       "      <td>0.9349</td>\n",
       "      <td>0.5283</td>\n",
       "      <td>0.0143</td>\n",
       "      <td>0.0279</td>\n",
       "      <td>0.0245</td>\n",
       "    </tr>\n",
       "    <tr>\n",
       "      <th>0</th>\n",
       "      <td>class_weight</td>\n",
       "      <td>0.8323</td>\n",
       "      <td>0.1887</td>\n",
       "      <td>0.4765</td>\n",
       "      <td>0.2704</td>\n",
       "      <td>0.1952</td>\n",
       "    </tr>\n",
       "    <tr>\n",
       "      <th>0</th>\n",
       "      <td>under_sample</td>\n",
       "      <td>0.8290</td>\n",
       "      <td>0.1846</td>\n",
       "      <td>0.4749</td>\n",
       "      <td>0.2659</td>\n",
       "      <td>0.1898</td>\n",
       "    </tr>\n",
       "    <tr>\n",
       "      <th>0</th>\n",
       "      <td>tomek_undersample</td>\n",
       "      <td>0.9349</td>\n",
       "      <td>0.5185</td>\n",
       "      <td>0.0143</td>\n",
       "      <td>0.0279</td>\n",
       "      <td>0.0244</td>\n",
       "    </tr>\n",
       "    <tr>\n",
       "      <th>0</th>\n",
       "      <td>oversample</td>\n",
       "      <td>0.8355</td>\n",
       "      <td>0.1913</td>\n",
       "      <td>0.4719</td>\n",
       "      <td>0.2723</td>\n",
       "      <td>0.1978</td>\n",
       "    </tr>\n",
       "  </tbody>\n",
       "</table>\n",
       "</div>"
      ],
      "text/plain": [
       "               model  Accuracy  Precision  Recall     F1  Cohen\n",
       "0  vanilla           0.9349    0.5283     0.0143  0.0279 0.0245\n",
       "0  class_weight      0.8323    0.1887     0.4765  0.2704 0.1952\n",
       "0  under_sample      0.8290    0.1846     0.4749  0.2659 0.1898\n",
       "0  tomek_undersample 0.9349    0.5185     0.0143  0.0279 0.0244\n",
       "0  oversample        0.8355    0.1913     0.4719  0.2723 0.1978"
      ]
     },
     "execution_count": 160,
     "metadata": {},
     "output_type": "execute_result"
    }
   ],
   "source": [
    "test_df = pd.concat([test_df, pd.DataFrame([{'model':'oversample',\n",
    "                                             'Accuracy': accuracy_score(Y_test, Y_pred), \n",
    "                                            'Precision': precision_score(Y_test, Y_pred),\n",
    "                                            'Recall': recall_score(Y_test, Y_pred),\n",
    "                                            'F1': f1_score(Y_test, Y_pred),\n",
    "                                            'Cohen': cohen_kappa_score(Y_test, Y_pred)}\n",
    "                                           ])\n",
    "                                           ])\n",
    "test_df"
   ]
  },
  {
   "cell_type": "markdown",
   "metadata": {},
   "source": [
    "### So as you can observe from the above plot, oversampling has brought an equal balance in the distribution of classes in the target variable. Also the recall is much better compared to the vanilla model and Tomek undersampling"
   ]
  },
  {
   "cell_type": "markdown",
   "metadata": {},
   "source": [
    "### Task 13 : Perform SMOTE on the train data and then fit a Logistic regression model on this undersampled data and then predict on the test data and calculate the precision, recall, accuracy, f1-score and the confusion matrix."
   ]
  },
  {
   "cell_type": "code",
   "execution_count": 165,
   "metadata": {},
   "outputs": [
    {
     "data": {
      "text/plain": [
       "<AxesSubplot:ylabel='count'>"
      ]
     },
     "execution_count": 165,
     "metadata": {},
     "output_type": "execute_result"
    },
    {
     "data": {
      "text/plain": [
       "LogisticRegression(C=1.0, class_weight=None, dual=False, fit_intercept=True,\n",
       "                   intercept_scaling=1, l1_ratio=None, max_iter=100,\n",
       "                   multi_class='auto', n_jobs=None, penalty='l2',\n",
       "                   random_state=None, solver='lbfgs', tol=0.0001, verbose=0,\n",
       "                   warm_start=False)"
      ]
     },
     "execution_count": 165,
     "metadata": {},
     "output_type": "execute_result"
    },
    {
     "name": "stdout",
     "output_type": "stream",
     "text": [
      "Accuracy: 0.8093666666666667\n",
      "recall: 0.4729038854805726\n",
      "precision: 0.1647960092642081\n",
      "f1_score: 0.24441802087462017\n"
     ]
    },
    {
     "data": {
      "text/html": [
       "<div>\n",
       "<style scoped>\n",
       "    .dataframe tbody tr th:only-of-type {\n",
       "        vertical-align: middle;\n",
       "    }\n",
       "\n",
       "    .dataframe tbody tr th {\n",
       "        vertical-align: top;\n",
       "    }\n",
       "\n",
       "    .dataframe thead th {\n",
       "        text-align: right;\n",
       "    }\n",
       "</style>\n",
       "<table border=\"1\" class=\"dataframe\">\n",
       "  <thead>\n",
       "    <tr style=\"text-align: right;\">\n",
       "      <th>Actual</th>\n",
       "      <th>0</th>\n",
       "      <th>1</th>\n",
       "    </tr>\n",
       "    <tr>\n",
       "      <th>Predicted</th>\n",
       "      <th></th>\n",
       "      <th></th>\n",
       "    </tr>\n",
       "  </thead>\n",
       "  <tbody>\n",
       "    <tr>\n",
       "      <th>0</th>\n",
       "      <td>23356</td>\n",
       "      <td>1031</td>\n",
       "    </tr>\n",
       "    <tr>\n",
       "      <th>1</th>\n",
       "      <td>4688</td>\n",
       "      <td>925</td>\n",
       "    </tr>\n",
       "  </tbody>\n",
       "</table>\n",
       "</div>"
      ],
      "text/plain": [
       "Actual         0     1\n",
       "Predicted             \n",
       "0          23356  1031\n",
       "1          4688   925 "
      ]
     },
     "execution_count": 165,
     "metadata": {},
     "output_type": "execute_result"
    },
    {
     "data": {
      "image/png": "[encoded data removed]",
      "text/plain": [
       "<Figure size 432x288 with 1 Axes>"
      ]
     },
     "metadata": {},
     "output_type": "display_data"
    }
   ],
   "source": [
    "# Import package\n",
    "from imblearn.over_sampling import SMOTE\n",
    "\n",
    "\n",
    "#Initialising a SMOTE object\n",
    "smote = SMOTE(random_state=12)\n",
    "\n",
    "#Sampling the data using SMOTE\n",
    "X_sample_3, y_sample_3 = smote.fit_sample(X_train, Y_train)\n",
    "\n",
    "# Using a countplot plot the distribution of y_sample_3\n",
    "sns.countplot(y_sample_3)\n",
    "\n",
    "#Initialising Logistic Regression model\n",
    "model_smote = LogisticRegression()\n",
    "\n",
    "#Fitting the model on train data\n",
    "model_smote.fit(X_sample_3, y_sample_3)\n",
    "\n",
    "#Making predictions on test data\n",
    "Y_pred=model_smote.predict(X_test)\n",
    "\n",
    "#Finding the accuracy score \n",
    "accuracy_smote=model_smote.score(X_test,Y_test)\n",
    "print(\"Accuracy:\",accuracy_smote)       \n",
    "\n",
    "\n",
    "#Finding the recall score\n",
    "recall_smote=recall_score(Y_test, Y_pred)\n",
    "print (\"recall:\",recall_smote)\n",
    "\n",
    "#Finding the precision score\n",
    "precision_smote=precision_score(Y_test, Y_pred)\n",
    "print (\"precision:\",precision_smote)\n",
    "\n",
    "#Finding the f1 score\n",
    "f1_smote=f1_score(Y_test, Y_pred)\n",
    "print (\"f1_score:\", f1_smote)\n",
    "\n",
    "#Finding the confusion matrix\n",
    "pd.crosstab(Y_pred,Y_test, rownames=['Predicted'], colnames=['Actual'])\n",
    "#Code ends here"
   ]
  },
  {
   "cell_type": "code",
   "execution_count": 168,
   "metadata": {
    "scrolled": false
   },
   "outputs": [
    {
     "data": {
      "text/html": [
       "<div>\n",
       "<style scoped>\n",
       "    .dataframe tbody tr th:only-of-type {\n",
       "        vertical-align: middle;\n",
       "    }\n",
       "\n",
       "    .dataframe tbody tr th {\n",
       "        vertical-align: top;\n",
       "    }\n",
       "\n",
       "    .dataframe thead th {\n",
       "        text-align: right;\n",
       "    }\n",
       "</style>\n",
       "<table border=\"1\" class=\"dataframe\">\n",
       "  <thead>\n",
       "    <tr style=\"text-align: right;\">\n",
       "      <th></th>\n",
       "      <th>model</th>\n",
       "      <th>Accuracy</th>\n",
       "      <th>Precision</th>\n",
       "      <th>Recall</th>\n",
       "      <th>F1</th>\n",
       "      <th>Cohen</th>\n",
       "    </tr>\n",
       "  </thead>\n",
       "  <tbody>\n",
       "    <tr>\n",
       "      <th>0</th>\n",
       "      <td>vanilla</td>\n",
       "      <td>0.9349</td>\n",
       "      <td>0.5283</td>\n",
       "      <td>0.0143</td>\n",
       "      <td>0.0279</td>\n",
       "      <td>0.0245</td>\n",
       "    </tr>\n",
       "    <tr>\n",
       "      <th>0</th>\n",
       "      <td>class_weight</td>\n",
       "      <td>0.8323</td>\n",
       "      <td>0.1887</td>\n",
       "      <td>0.4765</td>\n",
       "      <td>0.2704</td>\n",
       "      <td>0.1952</td>\n",
       "    </tr>\n",
       "    <tr>\n",
       "      <th>0</th>\n",
       "      <td>under_sample</td>\n",
       "      <td>0.8290</td>\n",
       "      <td>0.1846</td>\n",
       "      <td>0.4749</td>\n",
       "      <td>0.2659</td>\n",
       "      <td>0.1898</td>\n",
       "    </tr>\n",
       "    <tr>\n",
       "      <th>0</th>\n",
       "      <td>tomek_undersample</td>\n",
       "      <td>0.9349</td>\n",
       "      <td>0.5185</td>\n",
       "      <td>0.0143</td>\n",
       "      <td>0.0279</td>\n",
       "      <td>0.0244</td>\n",
       "    </tr>\n",
       "    <tr>\n",
       "      <th>0</th>\n",
       "      <td>oversample</td>\n",
       "      <td>0.8355</td>\n",
       "      <td>0.1913</td>\n",
       "      <td>0.4719</td>\n",
       "      <td>0.2723</td>\n",
       "      <td>0.1978</td>\n",
       "    </tr>\n",
       "    <tr>\n",
       "      <th>0</th>\n",
       "      <td>smote</td>\n",
       "      <td>0.8094</td>\n",
       "      <td>0.1648</td>\n",
       "      <td>0.4729</td>\n",
       "      <td>0.2444</td>\n",
       "      <td>0.1635</td>\n",
       "    </tr>\n",
       "  </tbody>\n",
       "</table>\n",
       "</div>"
      ],
      "text/plain": [
       "               model  Accuracy  Precision  Recall     F1  Cohen\n",
       "0  vanilla           0.9349    0.5283     0.0143  0.0279 0.0245\n",
       "0  class_weight      0.8323    0.1887     0.4765  0.2704 0.1952\n",
       "0  under_sample      0.8290    0.1846     0.4749  0.2659 0.1898\n",
       "0  tomek_undersample 0.9349    0.5185     0.0143  0.0279 0.0244\n",
       "0  oversample        0.8355    0.1913     0.4719  0.2723 0.1978\n",
       "0  smote             0.8094    0.1648     0.4729  0.2444 0.1635"
      ]
     },
     "execution_count": 168,
     "metadata": {},
     "output_type": "execute_result"
    }
   ],
   "source": [
    "test_df = pd.concat([test_df, pd.DataFrame([{'model':'smote',\n",
    "                                             'Accuracy': accuracy_score(Y_test, Y_pred), \n",
    "                                            'Precision': precision_score(Y_test, Y_pred),\n",
    "                                            'Recall': recall_score(Y_test, Y_pred),\n",
    "                                            'F1': f1_score(Y_test, Y_pred),\n",
    "                                            'Cohen': cohen_kappa_score(Y_test, Y_pred)}\n",
    "                                           ])\n",
    "                                           ])\n",
    "test_df"
   ]
  },
  {
   "cell_type": "code",
   "execution_count": null,
   "metadata": {},
   "outputs": [],
   "source": [
    "1. Get more data\n",
    "2. Resampling strategies \n",
    "    1. create stack of models with different sample size and sample ratio of majority and minority\n",
    "3. Try another algorith - Tree based\n",
    "4. Remove your outliers and then model\n",
    "5. scale features\n",
    "6. Hyperparam"
   ]
  },
  {
   "cell_type": "markdown",
   "metadata": {},
   "source": [
    "### SMOTE performs on par with Random Oversampling giving almost the same recall ! "
   ]
  }
 ],
 "metadata": {
  "anaconda-cloud": {},
  "celltoolbar": "Slideshow",
  "kernelspec": {
   "display_name": "Python 3",
   "language": "python",
   "name": "python3"
  },
  "language_info": {
   "codemirror_mode": {
    "name": "ipython",
    "version": 3
   },
   "file_extension": ".py",
   "mimetype": "text/x-python",
   "name": "python",
   "nbconvert_exporter": "python",
   "pygments_lexer": "ipython3",
   "version": "3.7.0"
  },
  "widgets": {
   "state": {},
   "version": "1.1.2"
  }
 },
 "nbformat": 4,
 "nbformat_minor": 1
}
